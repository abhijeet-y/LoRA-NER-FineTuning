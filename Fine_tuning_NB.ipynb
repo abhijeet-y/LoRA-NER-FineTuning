{
  "cells": [
    {
      "cell_type": "code",
      "execution_count": 1,
      "id": "cdd8cb39",
      "metadata": {
        "_cell_guid": "b1076dfc-b9ad-4769-8c92-a6c4dae69d19",
        "_uuid": "8f2839f25d086af736a60e9eeb907d3b93b6e0e5",
        "execution": {
          "iopub.execute_input": "2025-07-27T00:31:53.780153Z",
          "iopub.status.busy": "2025-07-27T00:31:53.779355Z",
          "iopub.status.idle": "2025-07-27T00:33:18.046247Z",
          "shell.execute_reply": "2025-07-27T00:33:18.045450Z"
        },
        "papermill": {
          "duration": 84.277329,
          "end_time": "2025-07-27T00:33:18.047829",
          "exception": false,
          "start_time": "2025-07-27T00:31:53.770500",
          "status": "completed"
        },
        "tags": [],
        "id": "cdd8cb39"
      },
      "outputs": [],
      "source": [
        "# !pip install transformers datasets accelerate peft"
      ]
    },
    {
      "cell_type": "code",
      "execution_count": 2,
      "id": "3b96efba",
      "metadata": {
        "execution": {
          "iopub.execute_input": "2025-07-27T00:33:18.098278Z",
          "iopub.status.busy": "2025-07-27T00:33:18.097966Z",
          "iopub.status.idle": "2025-07-27T00:33:27.177920Z",
          "shell.execute_reply": "2025-07-27T00:33:27.177189Z"
        },
        "papermill": {
          "duration": 9.106141,
          "end_time": "2025-07-27T00:33:27.179256",
          "exception": false,
          "start_time": "2025-07-27T00:33:18.073115",
          "status": "completed"
        },
        "tags": [],
        "id": "3b96efba"
      },
      "outputs": [],
      "source": [
        "# !pip install -U bitsandbytes"
      ]
    },
    {
      "cell_type": "markdown",
      "id": "7f4082d5",
      "metadata": {
        "papermill": {
          "duration": 0.025071,
          "end_time": "2025-07-27T00:33:27.230771",
          "exception": false,
          "start_time": "2025-07-27T00:33:27.205700",
          "status": "completed"
        },
        "tags": [],
        "id": "7f4082d5"
      },
      "source": [
        "## Imports"
      ]
    },
    {
      "cell_type": "code",
      "execution_count": null,
      "id": "1edbaca0",
      "metadata": {
        "execution": {
          "iopub.execute_input": "2025-07-27T00:33:27.282601Z",
          "iopub.status.busy": "2025-07-27T00:33:27.282310Z",
          "iopub.status.idle": "2025-07-27T00:34:06.941389Z",
          "shell.execute_reply": "2025-07-27T00:34:06.940786Z"
        },
        "papermill": {
          "duration": 39.686749,
          "end_time": "2025-07-27T00:34:06.942721",
          "exception": false,
          "start_time": "2025-07-27T00:33:27.255972",
          "status": "completed"
        },
        "tags": [],
        "id": "1edbaca0",
        "outputId": "a3f69d0b-f362-4ccd-eca1-0a746e8224b3"
      },
      "outputs": [
        {
          "name": "stderr",
          "output_type": "stream",
          "text": [
            "2025-07-27 00:33:48.790846: E external/local_xla/xla/stream_executor/cuda/cuda_fft.cc:477] Unable to register cuFFT factory: Attempting to register factory for plugin cuFFT when one has already been registered\n",
            "WARNING: All log messages before absl::InitializeLog() is called are written to STDERR\n",
            "E0000 00:00:1753576429.138930      19 cuda_dnn.cc:8310] Unable to register cuDNN factory: Attempting to register factory for plugin cuDNN when one has already been registered\n",
            "E0000 00:00:1753576429.232907      19 cuda_blas.cc:1418] Unable to register cuBLAS factory: Attempting to register factory for plugin cuBLAS when one has already been registered\n"
          ]
        }
      ],
      "source": [
        "import ast\n",
        "import torch\n",
        "import transformers\n",
        "\n",
        "from transformers import AutoModelForCausalLM, AutoTokenizer\n",
        "from transformers import BitsAndBytesConfig\n",
        "\n",
        "from torch.optim import AdamW\n",
        "from torch.utils.data import DataLoader\n",
        "\n",
        "from peft import prepare_model_for_kbit_training\n",
        "from peft import LoraConfig, get_peft_model\n",
        "\n",
        "from datasets import Dataset,load_dataset\n",
        "from tqdm import tqdm\n",
        "\n",
        "from accelerate import Accelerator"
      ]
    },
    {
      "cell_type": "markdown",
      "id": "20eba405",
      "metadata": {
        "papermill": {
          "duration": 0.072068,
          "end_time": "2025-07-27T00:34:07.041607",
          "exception": false,
          "start_time": "2025-07-27T00:34:06.969539",
          "status": "completed"
        },
        "tags": [],
        "id": "20eba405"
      },
      "source": [
        "## Reading the data..!"
      ]
    },
    {
      "cell_type": "code",
      "execution_count": null,
      "id": "74c16780",
      "metadata": {
        "execution": {
          "iopub.execute_input": "2025-07-27T00:34:07.094266Z",
          "iopub.status.busy": "2025-07-27T00:34:07.093663Z",
          "iopub.status.idle": "2025-07-27T00:34:07.381112Z",
          "shell.execute_reply": "2025-07-27T00:34:07.380245Z"
        },
        "papermill": {
          "duration": 0.314659,
          "end_time": "2025-07-27T00:34:07.382216",
          "exception": false,
          "start_time": "2025-07-27T00:34:07.067557",
          "status": "completed"
        },
        "tags": [],
        "colab": {
          "referenced_widgets": [
            "59159505a0764e6e909265de2f567182"
          ]
        },
        "id": "74c16780",
        "outputId": "637bcea7-0dd6-47cb-b7cd-15c88a64296a"
      },
      "outputs": [
        {
          "data": {
            "application/vnd.jupyter.widget-view+json": {
              "model_id": "59159505a0764e6e909265de2f567182",
              "version_major": 2,
              "version_minor": 0
            },
            "text/plain": [
              "Generating train split: 0 examples [00:00, ? examples/s]"
            ]
          },
          "metadata": {},
          "output_type": "display_data"
        },
        {
          "name": "stdout",
          "output_type": "stream",
          "text": [
            "Dataset features: {'event_text': Value(dtype='string', id=None), 'output': {'action': Value(dtype='string', id=None), 'date': Value(dtype='string', id=None), 'time': Value(dtype='string', id=None), 'attendees': Sequence(feature=Value(dtype='string', id=None), length=-1, id=None), 'location': Value(dtype='string', id=None), 'duration': Value(dtype='string', id=None), 'recurrence': Value(dtype='string', id=None), 'notes': Value(dtype='string', id=None)}}\n",
            "Number of examples: 792\n",
            "\n",
            "First 3 examples:\n",
            "{'event_text': 'Late night study session at the café on 15th, Dec 2024 at 9:00 pm for 2 hours.', 'output': {'action': 'study session', 'date': '15/12/2024', 'time': '9:00 PM', 'attendees': None, 'location': 'café', 'duration': '2 hours', 'recurrence': None, 'notes': None}}\n",
            "{'event_text': 'Hang out at the beach on 18th, Jul 2024 around 10:00 am for 3 hours or so.', 'output': {'action': 'Hang out', 'date': '18/07/2024', 'time': '10:00 AM', 'attendees': None, 'location': 'beach', 'duration': '3 hours', 'recurrence': None, 'notes': None}}\n",
            "{'event_text': 'Business lunch at that seafood spot on 2nd, Nov 2024 at 1:00 pm for roughly 2 hours.', 'output': {'action': 'Business lunch', 'date': '02/11/2024', 'time': '1:00 PM', 'attendees': None, 'location': 'that seafood spot', 'duration': '2 hours', 'recurrence': None, 'notes': None}}\n"
          ]
        }
      ],
      "source": [
        "data_path = r\"/kaggle/input/llm-fine-tune-dataset/event_text_mapping.jsonl\"\n",
        "ds = load_dataset(\"json\", data_files=data_path)[\"train\"]\n",
        "\n",
        "print(\"Dataset features:\", ds.features)\n",
        "print(\"Number of examples:\", len(ds))\n",
        "print(\"\\nFirst 3 examples:\")\n",
        "for i in range(min(3, len(ds))):\n",
        "    print(ds[i])"
      ]
    },
    {
      "cell_type": "markdown",
      "id": "b89693b6",
      "metadata": {
        "papermill": {
          "duration": 0.026933,
          "end_time": "2025-07-27T00:34:07.436256",
          "exception": false,
          "start_time": "2025-07-27T00:34:07.409323",
          "status": "completed"
        },
        "tags": [],
        "id": "b89693b6"
      },
      "source": [
        "### Dataset Overview and Initial Exploration\n",
        "\n",
        "We begin by loading a JSON dataset consisting of 792 examples, each containing a natural language event description and a structured `output` dictionary. The schema reveals that each event is broken down into actionable fields such as `action`, `date`, `time`, `location`, `duration`, and optional fields like `attendees`, `recurrence`, and `notes`. The initial few samples confirm the consistency in format and provide confidence that the dataset is well-suited for training models to perform structured information extraction from free-form text.\n"
      ]
    },
    {
      "cell_type": "markdown",
      "id": "6457fce3",
      "metadata": {
        "papermill": {
          "duration": 0.026415,
          "end_time": "2025-07-27T00:34:07.488833",
          "exception": false,
          "start_time": "2025-07-27T00:34:07.462418",
          "status": "completed"
        },
        "tags": [],
        "id": "6457fce3"
      },
      "source": [
        "## Loading the model..!"
      ]
    },
    {
      "cell_type": "markdown",
      "id": "9141f650",
      "metadata": {
        "papermill": {
          "duration": 0.027132,
          "end_time": "2025-07-27T00:34:07.542246",
          "exception": false,
          "start_time": "2025-07-27T00:34:07.515114",
          "status": "completed"
        },
        "tags": [],
        "id": "9141f650"
      },
      "source": [
        "### Model Loading with 4-bit Quantization\n",
        "\n",
        "We load the `SmolLM-360M` model using 4-bit NF4 quantization via `BitsAndBytesConfig` for efficient memory usage and faster inference. The model architecture is based on LLaMA with 32 decoder layers and linear projections quantized to 4-bit. This enables running a moderately sized language model on limited GPU resources without significantly compromising performance, making it ideal for experimentation or fine-tuning tasks on consumer hardware.\n"
      ]
    },
    {
      "cell_type": "code",
      "execution_count": null,
      "id": "db67e527",
      "metadata": {
        "execution": {
          "iopub.execute_input": "2025-07-27T00:34:07.595429Z",
          "iopub.status.busy": "2025-07-27T00:34:07.595174Z",
          "iopub.status.idle": "2025-07-27T00:34:17.081436Z",
          "shell.execute_reply": "2025-07-27T00:34:17.080677Z"
        },
        "papermill": {
          "duration": 9.514423,
          "end_time": "2025-07-27T00:34:17.082719",
          "exception": false,
          "start_time": "2025-07-27T00:34:07.568296",
          "status": "completed"
        },
        "tags": [],
        "colab": {
          "referenced_widgets": [
            "456019ab7b0f42f78b6c9fd7c5d317d4",
            "d714ca4103ff4bf39246c9ec6ebb2131",
            "385bc656a7a64120b93bdc63d6e15134"
          ]
        },
        "id": "db67e527",
        "outputId": "000ee2fa-ad2b-445d-a01b-d45af3228c9e"
      },
      "outputs": [
        {
          "data": {
            "application/vnd.jupyter.widget-view+json": {
              "model_id": "456019ab7b0f42f78b6c9fd7c5d317d4",
              "version_major": 2,
              "version_minor": 0
            },
            "text/plain": [
              "config.json:   0%|          | 0.00/725 [00:00<?, ?B/s]"
            ]
          },
          "metadata": {},
          "output_type": "display_data"
        },
        {
          "data": {
            "application/vnd.jupyter.widget-view+json": {
              "model_id": "d714ca4103ff4bf39246c9ec6ebb2131",
              "version_major": 2,
              "version_minor": 0
            },
            "text/plain": [
              "model.safetensors:   0%|          | 0.00/1.45G [00:00<?, ?B/s]"
            ]
          },
          "metadata": {},
          "output_type": "display_data"
        },
        {
          "data": {
            "application/vnd.jupyter.widget-view+json": {
              "model_id": "385bc656a7a64120b93bdc63d6e15134",
              "version_major": 2,
              "version_minor": 0
            },
            "text/plain": [
              "generation_config.json:   0%|          | 0.00/111 [00:00<?, ?B/s]"
            ]
          },
          "metadata": {},
          "output_type": "display_data"
        },
        {
          "data": {
            "text/plain": [
              "LlamaForCausalLM(\n",
              "  (model): LlamaModel(\n",
              "    (embed_tokens): Embedding(49152, 960)\n",
              "    (layers): ModuleList(\n",
              "      (0-31): 32 x LlamaDecoderLayer(\n",
              "        (self_attn): LlamaAttention(\n",
              "          (q_proj): Linear4bit(in_features=960, out_features=960, bias=False)\n",
              "          (k_proj): Linear4bit(in_features=960, out_features=320, bias=False)\n",
              "          (v_proj): Linear4bit(in_features=960, out_features=320, bias=False)\n",
              "          (o_proj): Linear4bit(in_features=960, out_features=960, bias=False)\n",
              "        )\n",
              "        (mlp): LlamaMLP(\n",
              "          (gate_proj): Linear4bit(in_features=960, out_features=2560, bias=False)\n",
              "          (up_proj): Linear4bit(in_features=960, out_features=2560, bias=False)\n",
              "          (down_proj): Linear4bit(in_features=2560, out_features=960, bias=False)\n",
              "          (act_fn): SiLU()\n",
              "        )\n",
              "        (input_layernorm): LlamaRMSNorm((960,), eps=1e-05)\n",
              "        (post_attention_layernorm): LlamaRMSNorm((960,), eps=1e-05)\n",
              "      )\n",
              "    )\n",
              "    (norm): LlamaRMSNorm((960,), eps=1e-05)\n",
              "    (rotary_emb): LlamaRotaryEmbedding()\n",
              "  )\n",
              "  (lm_head): Linear(in_features=960, out_features=49152, bias=False)\n",
              ")"
            ]
          },
          "execution_count": 5,
          "metadata": {},
          "output_type": "execute_result"
        }
      ],
      "source": [
        "MODEL_NAME = \"HuggingFaceTB/SmolLM-360M\"\n",
        "\n",
        "bnb_config = BitsAndBytesConfig(\n",
        "    load_in_4bit=True,\n",
        "    bnb_4bit_quant_type=\"nf4\",\n",
        "    bnb_4bit_use_double_quant=True,\n",
        "    bnb_4bit_compute_dtype=torch.float16\n",
        ")\n",
        "\n",
        "model = AutoModelForCausalLM.from_pretrained(\n",
        "    MODEL_NAME, quantization_config=bnb_config,device_map={\"\": 0}\n",
        ")\n",
        "\n",
        "model"
      ]
    },
    {
      "cell_type": "markdown",
      "id": "a5f3061f",
      "metadata": {
        "papermill": {
          "duration": 0.026187,
          "end_time": "2025-07-27T00:34:17.135808",
          "exception": false,
          "start_time": "2025-07-27T00:34:17.109621",
          "status": "completed"
        },
        "tags": [],
        "id": "a5f3061f"
      },
      "source": [
        "### Setting up the tokenizer"
      ]
    },
    {
      "cell_type": "code",
      "execution_count": null,
      "id": "821b498e",
      "metadata": {
        "execution": {
          "iopub.execute_input": "2025-07-27T00:34:17.189536Z",
          "iopub.status.busy": "2025-07-27T00:34:17.189288Z",
          "iopub.status.idle": "2025-07-27T00:34:18.138811Z",
          "shell.execute_reply": "2025-07-27T00:34:18.138209Z"
        },
        "papermill": {
          "duration": 0.977797,
          "end_time": "2025-07-27T00:34:18.140077",
          "exception": false,
          "start_time": "2025-07-27T00:34:17.162280",
          "status": "completed"
        },
        "tags": [],
        "colab": {
          "referenced_widgets": [
            "8fca20a6034f41c9920f77dfedf274b6",
            "ea3fa4f7aef149afa2bf1426e61a5d4c",
            "bdbf97fc5e8244deb8cdc2376fba1fe6",
            "617a7474a9c44118bec885f477f556bb",
            "dec639508b45416a8e894e59d224e7cb"
          ]
        },
        "id": "821b498e",
        "outputId": "195f6fb6-0bbe-4881-df68-9b87f3a3d74e"
      },
      "outputs": [
        {
          "data": {
            "application/vnd.jupyter.widget-view+json": {
              "model_id": "8fca20a6034f41c9920f77dfedf274b6",
              "version_major": 2,
              "version_minor": 0
            },
            "text/plain": [
              "tokenizer_config.json: 0.00B [00:00, ?B/s]"
            ]
          },
          "metadata": {},
          "output_type": "display_data"
        },
        {
          "data": {
            "application/vnd.jupyter.widget-view+json": {
              "model_id": "ea3fa4f7aef149afa2bf1426e61a5d4c",
              "version_major": 2,
              "version_minor": 0
            },
            "text/plain": [
              "vocab.json: 0.00B [00:00, ?B/s]"
            ]
          },
          "metadata": {},
          "output_type": "display_data"
        },
        {
          "data": {
            "application/vnd.jupyter.widget-view+json": {
              "model_id": "bdbf97fc5e8244deb8cdc2376fba1fe6",
              "version_major": 2,
              "version_minor": 0
            },
            "text/plain": [
              "merges.txt: 0.00B [00:00, ?B/s]"
            ]
          },
          "metadata": {},
          "output_type": "display_data"
        },
        {
          "data": {
            "application/vnd.jupyter.widget-view+json": {
              "model_id": "617a7474a9c44118bec885f477f556bb",
              "version_major": 2,
              "version_minor": 0
            },
            "text/plain": [
              "tokenizer.json: 0.00B [00:00, ?B/s]"
            ]
          },
          "metadata": {},
          "output_type": "display_data"
        },
        {
          "data": {
            "application/vnd.jupyter.widget-view+json": {
              "model_id": "dec639508b45416a8e894e59d224e7cb",
              "version_major": 2,
              "version_minor": 0
            },
            "text/plain": [
              "special_tokens_map.json:   0%|          | 0.00/831 [00:00<?, ?B/s]"
            ]
          },
          "metadata": {},
          "output_type": "display_data"
        }
      ],
      "source": [
        "tokenizer = AutoTokenizer.from_pretrained(MODEL_NAME)\n",
        "tokenizer.pad_token = tokenizer.eos_token"
      ]
    },
    {
      "cell_type": "markdown",
      "id": "0bd02f78",
      "metadata": {
        "papermill": {
          "duration": 0.026644,
          "end_time": "2025-07-27T00:34:18.197615",
          "exception": false,
          "start_time": "2025-07-27T00:34:18.170971",
          "status": "completed"
        },
        "tags": [],
        "id": "0bd02f78"
      },
      "source": [
        "### Checking the text generation capability of the model..!"
      ]
    },
    {
      "cell_type": "code",
      "execution_count": null,
      "id": "678ea7d8",
      "metadata": {
        "execution": {
          "iopub.execute_input": "2025-07-27T00:34:18.252057Z",
          "iopub.status.busy": "2025-07-27T00:34:18.251761Z",
          "iopub.status.idle": "2025-07-27T00:34:20.915763Z",
          "shell.execute_reply": "2025-07-27T00:34:20.914856Z"
        },
        "papermill": {
          "duration": 2.692846,
          "end_time": "2025-07-27T00:34:20.917144",
          "exception": false,
          "start_time": "2025-07-27T00:34:18.224298",
          "status": "completed"
        },
        "tags": [],
        "id": "678ea7d8",
        "outputId": "540f4ae3-b7eb-4a52-ad09-dedcc1696dcd"
      },
      "outputs": [
        {
          "name": "stderr",
          "output_type": "stream",
          "text": [
            "Setting `pad_token_id` to `eos_token_id`:0 for open-end generation.\n"
          ]
        },
        {
          "name": "stdout",
          "output_type": "stream",
          "text": [
            "Input: Hello, I'm Abhijeet. How are you?\n",
            "------------------------------\n",
            "Output: Hello, I'm Abhijeet. How are you?\n",
            "Abhijeet: I'm fine, thanks.\n",
            "Abhijeet: How are you?\n",
            "\n"
          ]
        }
      ],
      "source": [
        "input_text = \"Hello, I'm Abhijeet. How are you?\"\n",
        "inputs = tokenizer(input_text, return_tensors=\"pt\").to(model.device)\n",
        "outputs = model.generate(**inputs, max_new_tokens=25)\n",
        "decoded_output = tokenizer.decode(outputs[0], skip_special_tokens=True)\n",
        "\n",
        "print(f\"Input: {input_text}\")\n",
        "print(\"-\"*30)\n",
        "print(f\"Output: {decoded_output}\")"
      ]
    },
    {
      "cell_type": "markdown",
      "id": "f2bb43e6",
      "metadata": {
        "papermill": {
          "duration": 0.026027,
          "end_time": "2025-07-27T00:34:20.970605",
          "exception": false,
          "start_time": "2025-07-27T00:34:20.944578",
          "status": "completed"
        },
        "tags": [],
        "id": "f2bb43e6"
      },
      "source": [
        "### Checking the output for our NER task..!\n",
        "- I validated the model's ability to learn from few-shot prompting by providing a structured example followed by a new user input.\n",
        "- The prompt design helps guide the model by setting a clear pattern to follow.\n",
        "- I observed that the model follows the example structure well, but tends to repeat parts of the prompt and occasionally truncates the response.\n",
        "- These issues hint at limitations in generalization from just in-context examples.\n",
        "- Fine-tuning the model on a larger set of such input-output JSON pairs could help it learn the structure more robustly.\n",
        "- With fine-tuning, the model would better internalize entity extraction logic and reduce over-reliance on prompt templates.\n",
        "- It would also improve consistency in output formatting, casing, and handling edge cases like ambiguous durations or varying phrasing.\n",
        "- Overall, fine-tuning can make the model more reliable, reduce prompt engineering overhead, and produce cleaner, more accurate extractions.\n",
        "\n"
      ]
    },
    {
      "cell_type": "code",
      "execution_count": null,
      "id": "348ffb7c",
      "metadata": {
        "execution": {
          "iopub.execute_input": "2025-07-27T00:34:21.024105Z",
          "iopub.status.busy": "2025-07-27T00:34:21.023824Z",
          "iopub.status.idle": "2025-07-27T00:34:28.432063Z",
          "shell.execute_reply": "2025-07-27T00:34:28.431104Z"
        },
        "papermill": {
          "duration": 7.436754,
          "end_time": "2025-07-27T00:34:28.433607",
          "exception": false,
          "start_time": "2025-07-27T00:34:20.996853",
          "status": "completed"
        },
        "tags": [],
        "id": "348ffb7c",
        "outputId": "ad811d20-3ffa-4873-a703-fb83263fe462"
      },
      "outputs": [
        {
          "name": "stderr",
          "output_type": "stream",
          "text": [
            "Setting `pad_token_id` to `eos_token_id`:0 for open-end generation.\n"
          ]
        },
        {
          "name": "stdout",
          "output_type": "stream",
          "text": [
            ">> PROMPT FOR THE MODEL:\n",
            "---------------------\n",
            "See the given example to extract the entities based on given input in JSON format.\n",
            "\n",
            "Example Input: Late night study session at the café on 15th, Dec 2024 at 9:00 pm for 2 hours.\n",
            "Example Output: {'action': 'study session', 'date': '15/12/2024', 'time': '9:00 PM', 'attendees': None, 'location': 'café', 'duration': '2 hours', 'recurrence': None, 'notes': None}\n",
            "--------------------------\n",
            "Please extract the entities for the below user input in JSON format. And do not output anything else.\n",
            "User Input: Hang out at the beach on 18th, Jul 2024 around 10:00 am for 3 hours or so.\n",
            "\n",
            "\n",
            "\n",
            "\n",
            ">> RESPONSE FROM SLM:\n",
            "--------------------\n",
            "Example Output: {'action': 'hang out', 'date': '18/07/2024', 'time': '10:00 am', 'attendees': None, 'location': 'beach', 'duration': '3 hours', 'recurrence': None, 'notes': None}\n",
            "--------------------------\n",
            "Please extract the entities for the below user input in JSON format. And do not output anything else.\n",
            "User Input: Hang out at the\n",
            "\n",
            "\n",
            "\n",
            ">> ACTUAL OUTPUT:\n",
            "-----------------\n",
            "{'action': 'Hang out', 'date': '18/07/2024', 'time': '10:00 AM', 'attendees': None, 'location': 'beach', 'duration': '3 hours', 'recurrence': None, 'notes': None}\n"
          ]
        }
      ],
      "source": [
        "example = ds[0]\n",
        "question = ds[1]\n",
        "prompt_template = (\n",
        "    \"See the given example to extract the entities based on given input in JSON format.\\n\\n\"\n",
        "    \"Example Input: {event_text}\\n\"\n",
        "    \"Example Output: {output}\\n\"\n",
        "    \"--------------------------\\n\"\n",
        "    \"Please extract the entities for the below user input in JSON format. And do not output anything else.\\n\"\n",
        "    \"User Input: {user_input}\\n\"\n",
        ")\n",
        "\n",
        "formatted_example = {\n",
        "    \"text\": prompt_template.format(event_text=example['event_text'], output=example['output'],user_input=question['event_text'])\n",
        "}\n",
        "\n",
        "print(\">> PROMPT FOR THE MODEL:\")\n",
        "print(\"-\"*len(\"PROMPT FOR THE MODEL:\"))\n",
        "print(formatted_example['text'])\n",
        "print(\"\\n\\n\")\n",
        "\n",
        "input_text = formatted_example['text']\n",
        "inputs = tokenizer(input_text, return_tensors=\"pt\").to(model.device)\n",
        "outputs = model.generate(**inputs, max_new_tokens=100)\n",
        "decoded_output = tokenizer.decode(outputs[0][inputs['input_ids'].shape[1]:], skip_special_tokens=True)\n",
        "\n",
        "# print(f\"Input: {input_text}\")\n",
        "print(\">> Response from SLM:\".upper())\n",
        "print(\"-\"*len(\">> Response from LM:\"))\n",
        "print(decoded_output)\n",
        "print(\"\\n\\n\")\n",
        "print(\">> Actual Output:\".upper())\n",
        "print(\"-\"*len(\">> Actual Output:\"))\n",
        "print(question['output'])"
      ]
    },
    {
      "cell_type": "markdown",
      "id": "b91bc2b9",
      "metadata": {
        "execution": {
          "iopub.execute_input": "2025-07-26T09:08:11.164425Z",
          "iopub.status.busy": "2025-07-26T09:08:11.163552Z",
          "iopub.status.idle": "2025-07-26T09:08:11.167938Z",
          "shell.execute_reply": "2025-07-26T09:08:11.167251Z",
          "shell.execute_reply.started": "2025-07-26T09:08:11.164390Z"
        },
        "papermill": {
          "duration": 0.027976,
          "end_time": "2025-07-27T00:34:28.490924",
          "exception": false,
          "start_time": "2025-07-27T00:34:28.462948",
          "status": "completed"
        },
        "tags": [],
        "id": "b91bc2b9"
      },
      "source": [
        "## Preparing the dataset for fine-tuning task..!\n",
        "- I structured the dataset using a consistent prompt-response format to guide the model during training.\n",
        "- Using `map(batched=True)` allowed efficient batch processing while embedding each input into a few-shot prompt with a fixed example.\n",
        "- The inclusion of a reference example in every prompt establishes a clear pattern for the model to imitate during fine-tuning.\n",
        "- This consistency in formatting helps the SLM (Small Language Model) learn how to extract entities reliably in the expected JSON format.\n",
        "- By retaining both the prompt (`text`) and the ground truth (`output`), I can directly train the model in a supervised manner.\n",
        "- This setup encourages the model to understand contextual clues and align its outputs closely with structured targets.\n"
      ]
    },
    {
      "cell_type": "code",
      "execution_count": null,
      "id": "203e247e",
      "metadata": {
        "execution": {
          "iopub.execute_input": "2025-07-27T00:34:28.546622Z",
          "iopub.status.busy": "2025-07-27T00:34:28.546239Z",
          "iopub.status.idle": "2025-07-27T00:34:28.551487Z",
          "shell.execute_reply": "2025-07-27T00:34:28.550968Z"
        },
        "papermill": {
          "duration": 0.034635,
          "end_time": "2025-07-27T00:34:28.552541",
          "exception": false,
          "start_time": "2025-07-27T00:34:28.517906",
          "status": "completed"
        },
        "tags": [],
        "id": "203e247e"
      },
      "outputs": [],
      "source": [
        "def serialize(examples):\n",
        "    \"\"\"\n",
        "    Constructs a batch of prompt strings using few-shot learning format for NER-style entity extraction.\n",
        "\n",
        "    This function formats each input text in `examples['event_text']` by embedding it into a predefined\n",
        "    prompt template. It uses a fixed example (the first instance from the `raw` dataset) as a demonstration\n",
        "    to guide the model. The function returns a dictionary containing:\n",
        "\n",
        "    - \"text\": List of formatted prompt strings for each input.\n",
        "    - \"output\": Corresponding expected outputs as strings for comparison or training.\n",
        "\n",
        "    Parameters:\n",
        "    ----------\n",
        "    examples : dict\n",
        "        A dictionary with two keys:\n",
        "        - 'event_text': List of user inputs to extract entities from.\n",
        "        - 'output': List of corresponding ground truth outputs in dictionary format.\n",
        "\n",
        "    Returns:\n",
        "    -------\n",
        "    dict\n",
        "        A dictionary with:\n",
        "        - 'text': List of formatted prompt strings.\n",
        "        - 'output': List of expected output strings.\n",
        "    \"\"\"\n",
        "\n",
        "    prompt_template = (\n",
        "    \"See the given example to extract the entities based on given input in JSON format.\\n\\n\"\n",
        "    \"Example Input: {example_event_text}\\n\"\n",
        "    \"Example Output: {example_output}\\n\"\n",
        "    \"--------------------------\\n\"\n",
        "    \"Please extract the entities for the below user input in JSON format. And do not output anything else.\\n\\n\"\n",
        "    \"Human Input: {user_input}\\n\"\n",
        "    \"AI: \"\n",
        "    )\n",
        "\n",
        "\n",
        "\n",
        "    # Use the first example from the raw dataset as the fixed example for the prompt\n",
        "    example_instance={}\n",
        "    example_instance[\"event_text\"] = \"\"\"Late night study session at the café on 15th, Dec 2024 at 9:00 pm for 2 hours.\"\"\"\n",
        "    example_instance['output'] = \"\"\"{'action': 'study session', 'date': '15/12/2024', 'time': '9:00 PM', 'attendees': None, 'location': 'café', 'duration': '2 hours', 'recurrence': None, 'notes': None}\"\"\"\n",
        "    formatted_texts = []\n",
        "\n",
        "\n",
        "    # Iterate through the batch using the length of one of the lists (assuming all lists have the same length)\n",
        "    for i in range(len(examples['event_text'])):\n",
        "        formatted_text = prompt_template.format(\n",
        "            example_event_text=example_instance['event_text'],\n",
        "            example_output=example_instance['output'],\n",
        "            user_input=examples['event_text'][i] # Access each example in the batch correctly\n",
        "        )\n",
        "        formatted_texts.append(formatted_text)\n",
        "\n",
        "\n",
        "    return {\"text\": formatted_texts, \"output\": [str(output) for output in examples['output']]} # Access each output in the batch correctly"
      ]
    },
    {
      "cell_type": "code",
      "execution_count": null,
      "id": "66c5d5b0",
      "metadata": {
        "execution": {
          "iopub.execute_input": "2025-07-27T00:34:28.608420Z",
          "iopub.status.busy": "2025-07-27T00:34:28.608204Z",
          "iopub.status.idle": "2025-07-27T00:34:28.779670Z",
          "shell.execute_reply": "2025-07-27T00:34:28.778898Z"
        },
        "papermill": {
          "duration": 0.201623,
          "end_time": "2025-07-27T00:34:28.780703",
          "exception": false,
          "start_time": "2025-07-27T00:34:28.579080",
          "status": "completed"
        },
        "tags": [],
        "colab": {
          "referenced_widgets": [
            "5c36d0a4a13c4f4e8cbac84a94ee2f5c"
          ]
        },
        "id": "66c5d5b0",
        "outputId": "ba2a2b47-0248-4ee0-aaaf-86a4481df5f8"
      },
      "outputs": [
        {
          "data": {
            "application/vnd.jupyter.widget-view+json": {
              "model_id": "5c36d0a4a13c4f4e8cbac84a94ee2f5c",
              "version_major": 2,
              "version_minor": 0
            },
            "text/plain": [
              "Map:   0%|          | 0/712 [00:00<?, ? examples/s]"
            ]
          },
          "metadata": {},
          "output_type": "display_data"
        },
        {
          "name": "stdout",
          "output_type": "stream",
          "text": [
            "FORMATTED DATASET EXAMPLE:\n",
            "--------------------------\n",
            "See the given example to extract the entities based on given input in JSON format.\n",
            "\n",
            "Example Input: Late night study session at the café on 15th, Dec 2024 at 9:00 pm for 2 hours.\n",
            "Example Output: {'action': 'study session', 'date': '15/12/2024', 'time': '9:00 PM', 'attendees': None, 'location': 'café', 'duration': '2 hours', 'recurrence': None, 'notes': None}\n",
            "--------------------------\n",
            "Please extract the entities for the below user input in JSON format. And do not output anything else.\n",
            "\n",
            "Human Input: Set budget meeting 13/10/2023 11:30am Conference Room 2 with Olivia, Mason, and Rachel 2hrs.\n",
            "AI: {'action': 'Set budget meeting', 'date': '13/10/2023', 'time': '11:30 AM', 'attendees': ['Olivia', 'Mason', 'Rachel'], 'location': 'Conference Room 2', 'duration': '2hrs', 'recurrence': None, 'notes': None}\n",
            "\n",
            "\n",
            "\n",
            "CORRESPONDING OUTPUT:\n",
            "---------------------\n",
            "{'action': 'Set budget meeting', 'date': '13/10/2023', 'time': '11:30 AM', 'attendees': ['Olivia', 'Mason', 'Rachel'], 'location': 'Conference Room 2', 'duration': '2hrs', 'recurrence': None, 'notes': None}\n"
          ]
        }
      ],
      "source": [
        "# Process the dataset in batches using map with batched=True\n",
        "dataset = load_dataset(\"json\", data_files=data_path)['train']\n",
        "dataset = dataset.train_test_split(test_size=0.1)\n",
        "\n",
        "ds_val = dataset['test']\n",
        "ds_train = dataset['train']\n",
        "ds_train = ds_train.map(serialize,batched=True)\n",
        "\n",
        "\n",
        "print(\"Formatted dataset example:\".upper())\n",
        "print(\"-\"*len(\"Formatted dataset example:\"))\n",
        "print(ds_train[2]['text']+ds_train[2]['output'])\n",
        "print(\"\\n\\n\")\n",
        "print(\"Corresponding output:\".upper())\n",
        "print(\"-\"*len(\"Corresponding output:\"))\n",
        "print(ds_train[2]['output'])"
      ]
    },
    {
      "cell_type": "markdown",
      "id": "967bb1ab",
      "metadata": {
        "papermill": {
          "duration": 0.026662,
          "end_time": "2025-07-27T00:34:28.835109",
          "exception": false,
          "start_time": "2025-07-27T00:34:28.808447",
          "status": "completed"
        },
        "tags": [],
        "id": "967bb1ab"
      },
      "source": [
        "### Creating a `data_loader` to generate batch of training sample for fine-tuning..!"
      ]
    },
    {
      "cell_type": "code",
      "execution_count": null,
      "id": "2f0e2bdd",
      "metadata": {
        "execution": {
          "iopub.execute_input": "2025-07-27T00:34:28.889295Z",
          "iopub.status.busy": "2025-07-27T00:34:28.889006Z",
          "iopub.status.idle": "2025-07-27T00:34:28.894434Z",
          "shell.execute_reply": "2025-07-27T00:34:28.893807Z"
        },
        "papermill": {
          "duration": 0.033869,
          "end_time": "2025-07-27T00:34:28.895465",
          "exception": false,
          "start_time": "2025-07-27T00:34:28.861596",
          "status": "completed"
        },
        "tags": [],
        "id": "2f0e2bdd"
      },
      "outputs": [],
      "source": [
        "def tokenize_fn(example):\n",
        "\n",
        "    \"\"\"\n",
        "    Prepares tokenized input for supervised fine-tuning of a language model using prompt-response format.\n",
        "\n",
        "    This function takes a dictionary containing a prompt (`example[\"text\"]`) and a target output\n",
        "    (`example[\"output\"]`), concatenates them into a single training string, and tokenizes it using\n",
        "    the provided tokenizer. It ensures that only the target portion contributes to the training loss\n",
        "    by masking the prompt tokens with -100 in the label tensor.\n",
        "\n",
        "    Parameters:\n",
        "    ----------\n",
        "    example : dict\n",
        "        A dictionary with:\n",
        "        - 'text': The input prompt string used to condition the model.\n",
        "        - 'output': The expected target string to be predicted by the model.\n",
        "\n",
        "    Returns:\n",
        "    -------\n",
        "    dict\n",
        "        A dictionary containing:\n",
        "        - 'input_ids': Token IDs of the concatenated prompt and target.\n",
        "        - 'attention_mask': Attention mask for the input sequence.\n",
        "        - 'labels': Token IDs with prompt tokens masked (-100) to compute loss only on the target.\n",
        "    \"\"\"\n",
        "\n",
        "    prompt = example[\"text\"]\n",
        "    target = example[\"output\"]\n",
        "\n",
        "\n",
        "    # Concatenate prompt and expected output as training input\n",
        "    full_text = prompt + target\n",
        "    # print(f\"Full Text:\\n{full_text}\")\n",
        "\n",
        "\n",
        "    # Tokenize the full sequence\n",
        "    inputs = tokenizer(full_text, return_tensors=\"pt\", padding=\"max_length\", truncation=True, max_length=512)\n",
        "\n",
        "    input_ids = inputs[\"input_ids\"]\n",
        "    attention_mask = inputs[\"attention_mask\"]\n",
        "\n",
        "\n",
        "    # Create labels: only the target portion should contribute to loss\n",
        "    labels = input_ids.clone()\n",
        "    prompt_len = len(tokenizer(prompt)[\"input_ids\"])-1\n",
        "    labels[0,:prompt_len] = -100  # Mask out prompt tokens\n",
        "\n",
        "    # Final training batch\n",
        "    batch = {\n",
        "        \"input_ids\": input_ids.squeeze(1),\n",
        "        \"attention_mask\": attention_mask.squeeze(1),\n",
        "        \"labels\": labels.squeeze(1),\n",
        "        \"prompt_len\":prompt_len\n",
        "    }\n",
        "\n",
        "    return batch"
      ]
    },
    {
      "cell_type": "code",
      "execution_count": null,
      "id": "89e1c670",
      "metadata": {
        "execution": {
          "iopub.execute_input": "2025-07-27T00:34:28.950159Z",
          "iopub.status.busy": "2025-07-27T00:34:28.949888Z",
          "iopub.status.idle": "2025-07-27T00:34:28.953264Z",
          "shell.execute_reply": "2025-07-27T00:34:28.952717Z"
        },
        "papermill": {
          "duration": 0.031889,
          "end_time": "2025-07-27T00:34:28.954358",
          "exception": false,
          "start_time": "2025-07-27T00:34:28.922469",
          "status": "completed"
        },
        "tags": [],
        "id": "89e1c670"
      },
      "outputs": [],
      "source": [
        "def collate_fn(batch):\n",
        "    return tokenizer.pad(batch, padding = True,return_tensors=\"pt\")"
      ]
    },
    {
      "cell_type": "code",
      "execution_count": null,
      "id": "9ce02a4a",
      "metadata": {
        "execution": {
          "iopub.execute_input": "2025-07-27T00:34:29.008445Z",
          "iopub.status.busy": "2025-07-27T00:34:29.008236Z",
          "iopub.status.idle": "2025-07-27T00:34:30.244313Z",
          "shell.execute_reply": "2025-07-27T00:34:30.243495Z"
        },
        "papermill": {
          "duration": 1.264715,
          "end_time": "2025-07-27T00:34:30.245502",
          "exception": false,
          "start_time": "2025-07-27T00:34:28.980787",
          "status": "completed"
        },
        "tags": [],
        "colab": {
          "referenced_widgets": [
            "33ea72d046a248ed93d108013e29e881"
          ]
        },
        "id": "9ce02a4a",
        "outputId": "7d513f38-259b-4697-e55f-8e31329e035e"
      },
      "outputs": [
        {
          "data": {
            "application/vnd.jupyter.widget-view+json": {
              "model_id": "33ea72d046a248ed93d108013e29e881",
              "version_major": 2,
              "version_minor": 0
            },
            "text/plain": [
              "Map:   0%|          | 0/712 [00:00<?, ? examples/s]"
            ]
          },
          "metadata": {},
          "output_type": "display_data"
        }
      ],
      "source": [
        "tokenized_train = ds_train.map(tokenize_fn, remove_columns=ds_train.column_names)\n",
        "train_loader = DataLoader(tokenized_train, batch_size=4, shuffle=True, collate_fn=collate_fn)"
      ]
    },
    {
      "cell_type": "markdown",
      "id": "6c8e9a60",
      "metadata": {
        "papermill": {
          "duration": 0.027339,
          "end_time": "2025-07-27T00:34:30.302230",
          "exception": false,
          "start_time": "2025-07-27T00:34:30.274891",
          "status": "completed"
        },
        "tags": [],
        "id": "6c8e9a60"
      },
      "source": [
        "- I applied the `tokenize_fn` to the training dataset using `map`, which ensures each example is tokenized consistently.\n",
        "- Removing original columns keeps the dataset lean and avoids redundancy during training.\n",
        "- I wrapped the tokenized dataset into a `DataLoader` to enable efficient batching, shuffling, and feeding into the model.\n",
        "- The use of `collate_fn` ensures dynamic padding and batch formatting, making the training pipeline robust to variable input lengths.\n"
      ]
    },
    {
      "cell_type": "code",
      "execution_count": null,
      "id": "339351b8",
      "metadata": {
        "execution": {
          "iopub.execute_input": "2025-07-27T00:34:30.359199Z",
          "iopub.status.busy": "2025-07-27T00:34:30.358790Z",
          "iopub.status.idle": "2025-07-27T00:34:30.377937Z",
          "shell.execute_reply": "2025-07-27T00:34:30.377077Z"
        },
        "papermill": {
          "duration": 0.049663,
          "end_time": "2025-07-27T00:34:30.379130",
          "exception": false,
          "start_time": "2025-07-27T00:34:30.329467",
          "status": "completed"
        },
        "tags": [],
        "id": "339351b8",
        "outputId": "16dcc660-b8fd-4d5b-867b-237128a92eef"
      },
      "outputs": [
        {
          "name": "stderr",
          "output_type": "stream",
          "text": [
            "You're using a GPT2TokenizerFast tokenizer. Please note that with a fast tokenizer, using the `__call__` method is faster than using a method to encode the text followed by a call to the `pad` method to get a padded encoding.\n"
          ]
        },
        {
          "name": "stdout",
          "output_type": "stream",
          "text": [
            "BATCH KEYS:\n",
            "-----------\n",
            "dict_keys(['input_ids', 'attention_mask', 'labels', 'prompt_len'])\n",
            "\n",
            "\n",
            "\n",
            "-------------------------\n",
            "SAMPLE BATCH EXAMPLES:\n",
            "-------------------------\n",
            "\n",
            "\n",
            "\n",
            "------------\n",
            "EXAMPLE: 1\n",
            "------------\n",
            "See the given example to extract the entities based on given input in JSON format.\n",
            "\n",
            "Example Input: Late night study session at the café on 15th, Dec 2024 at 9:00 pm for 2 hours.\n",
            "Example Output: {'action': 'study session', 'date': '15/12/2024', 'time': '9:00 PM', 'attendees': None, 'location': 'café', 'duration': '2 hours', 'recurrence': None, 'notes': None}\n",
            "--------------------------\n",
            "Please extract the entities for the below user input in JSON format. And do not output anything else.\n",
            "\n",
            "Human Input: Plan new hire training 2024-02-05 9:15am with Mike for 2 hours.\n",
            "AI: {'action': 'Plan new hire training', 'date': '2024-02-05', 'time': '9:15 AM', 'attendees': ['Mike'], 'location': None, 'duration': '2 hours', 'recurrence': None, 'notes': None}\n",
            "\n",
            "\n",
            "OUTPUT:\n",
            "-------\n",
            " {'action': 'Plan new hire training', 'date': '2024-02-05', 'time': '9:15 AM', 'attendees': ['Mike'], 'location': None, 'duration': '2 hours', 'recurrence': None, 'notes': None}\n",
            "------------------------------------------------------------\n",
            "\n",
            "\n",
            "\n",
            "------------\n",
            "EXAMPLE: 2\n",
            "------------\n",
            "See the given example to extract the entities based on given input in JSON format.\n",
            "\n",
            "Example Input: Late night study session at the café on 15th, Dec 2024 at 9:00 pm for 2 hours.\n",
            "Example Output: {'action': 'study session', 'date': '15/12/2024', 'time': '9:00 PM', 'attendees': None, 'location': 'café', 'duration': '2 hours', 'recurrence': None, 'notes': None}\n",
            "--------------------------\n",
            "Please extract the entities for the below user input in JSON format. And do not output anything else.\n",
            "\n",
            "Human Input: Policy discussion 13/12/2023 at 11:30am with Rachel and Luke, 1 hour.\n",
            "AI: {'action': 'Policy discussion', 'date': '13/12/2023', 'time': '11:30 AM', 'attendees': ['Rachel', 'Luke'], 'location': None, 'duration': '1 hour', 'recurrence': None, 'notes': None}\n",
            "\n",
            "\n",
            "OUTPUT:\n",
            "-------\n",
            " {'action': 'Policy discussion', 'date': '13/12/2023', 'time': '11:30 AM', 'attendees': ['Rachel', 'Luke'], 'location': None, 'duration': '1 hour', 'recurrence': None, 'notes': None}\n",
            "------------------------------------------------------------\n",
            "\n",
            "\n",
            "\n",
            "------------\n",
            "EXAMPLE: 3\n",
            "------------\n",
            "See the given example to extract the entities based on given input in JSON format.\n",
            "\n",
            "Example Input: Late night study session at the café on 15th, Dec 2024 at 9:00 pm for 2 hours.\n",
            "Example Output: {'action': 'study session', 'date': '15/12/2024', 'time': '9:00 PM', 'attendees': None, 'location': 'café', 'duration': '2 hours', 'recurrence': None, 'notes': None}\n",
            "--------------------------\n",
            "Please extract the entities for the below user input in JSON format. And do not output anything else.\n",
            "\n",
            "Human Input: Legal review 2023-12-18 1:00 pm w/ Henry & Liz Teams 1h\n",
            "AI: {'action': 'Legal review', 'date': '2023-12-18', 'time': '1:00 PM', 'attendees': ['Henry', 'Liz'], 'location': 'Teams', 'duration': '1h', 'recurrence': None, 'notes': None}\n",
            "\n",
            "\n",
            "OUTPUT:\n",
            "-------\n",
            " {'action': 'Legal review', 'date': '2023-12-18', 'time': '1:00 PM', 'attendees': ['Henry', 'Liz'], 'location': 'Teams', 'duration': '1h', 'recurrence': None, 'notes': None}\n",
            "------------------------------------------------------------\n",
            "\n",
            "\n",
            "\n",
            "------------\n",
            "EXAMPLE: 4\n",
            "------------\n",
            "See the given example to extract the entities based on given input in JSON format.\n",
            "\n",
            "Example Input: Late night study session at the café on 15th, Dec 2024 at 9:00 pm for 2 hours.\n",
            "Example Output: {'action': 'study session', 'date': '15/12/2024', 'time': '9:00 PM', 'attendees': None, 'location': 'café', 'duration': '2 hours', 'recurrence': None, 'notes': None}\n",
            "--------------------------\n",
            "Please extract the entities for the below user input in JSON format. And do not output anything else.\n",
            "\n",
            "Human Input: November 4, 2024 2pm leadership sync Alex, Olivia, Ryan on Skype\n",
            "AI: {'action': 'leadership sync', 'date': '04/11/2024', 'time': '2:00 PM', 'attendees': ['Alex', 'Olivia', 'Ryan'], 'location': 'Skype', 'duration': None, 'recurrence': None, 'notes': None}\n",
            "\n",
            "\n",
            "OUTPUT:\n",
            "-------\n",
            " {'action': 'leadership sync', 'date': '04/11/2024', 'time': '2:00 PM', 'attendees': ['Alex', 'Olivia', 'Ryan'], 'location': 'Skype', 'duration': None, 'recurrence': None, 'notes': None}\n",
            "------------------------------------------------------------\n",
            "\n",
            "\n",
            "\n"
          ]
        }
      ],
      "source": [
        "batch = next(iter(train_loader))\n",
        "print(\"BATCH KEYS:\")\n",
        "print(\"-\"*len(\"BATCH KEYS:\"))\n",
        "print(batch.keys())\n",
        "print(\"\\n\\n\")\n",
        "print(\"-\"*len(\"TRAINING BATCH EXAMPLE:  \"))\n",
        "print(\"SAMPLE BATCH EXAMPLES:\")\n",
        "print(\"-\"*len(\"TRAINING BATCH EXAMPLE:  \"))\n",
        "print(\"\\n\\n\")\n",
        "\n",
        "\n",
        "for i in range(batch['input_ids'].shape[0]):\n",
        "    prompt_len = batch['prompt_len'][i].item()\n",
        "    input_text = tokenizer.decode(batch['input_ids'][i][0],skip_special_tokens=True)\n",
        "    label_text = tokenizer.decode(batch['labels'][i][0][prompt_len:],skip_special_tokens=True)\n",
        "\n",
        "    print(\"-\"*len(\"EXAMPLE:    \"))\n",
        "    print(f\"EXAMPLE: {i+1}\")\n",
        "    print(\"-\"*len(\"EXAMPLE:    \"))\n",
        "    print(f\"{input_text}\")\n",
        "    print(\"\\n\")\n",
        "    print(f\"OUTPUT:\")\n",
        "    print(\"-\"*len(\"OUTPUT:\"))\n",
        "    print(f\"{label_text}\")\n",
        "    print(\"-\"*60)\n",
        "    print(\"\\n\\n\")"
      ]
    },
    {
      "cell_type": "code",
      "execution_count": null,
      "id": "7a10d3ac",
      "metadata": {
        "execution": {
          "iopub.execute_input": "2025-07-27T00:34:30.435431Z",
          "iopub.status.busy": "2025-07-27T00:34:30.435217Z",
          "iopub.status.idle": "2025-07-27T00:34:30.708073Z",
          "shell.execute_reply": "2025-07-27T00:34:30.707298Z"
        },
        "papermill": {
          "duration": 0.30294,
          "end_time": "2025-07-27T00:34:30.709929",
          "exception": false,
          "start_time": "2025-07-27T00:34:30.406989",
          "status": "completed"
        },
        "tags": [],
        "id": "7a10d3ac",
        "outputId": "fbc9a672-ff9a-4026-9956-469451c94a9b"
      },
      "outputs": [
        {
          "name": "stdout",
          "output_type": "stream",
          "text": [
            "Loss on Training Sample: 11.2001\n"
          ]
        }
      ],
      "source": [
        "device = torch.device(\"cuda\" if torch.cuda.is_available() else \"cpu\")\n",
        "model = model.to(device)\n",
        "\n",
        "batch = next(iter(train_loader))\n",
        "del batch['prompt_len']\n",
        "\n",
        "# ✅ Move batch tensors to same device\n",
        "batch = {k: v.to(device).squeeze(1) for k, v in batch.items()}\n",
        "\n",
        "output = model(**batch)\n",
        "loss = output.loss\n",
        "print(f\"Loss on Training Sample: {loss.item():.4f}\")\n"
      ]
    },
    {
      "cell_type": "markdown",
      "id": "0f23d068",
      "metadata": {
        "papermill": {
          "duration": 0.028062,
          "end_time": "2025-07-27T00:34:30.767507",
          "exception": false,
          "start_time": "2025-07-27T00:34:30.739445",
          "status": "completed"
        },
        "tags": [],
        "id": "0f23d068"
      },
      "source": [
        "----------"
      ]
    },
    {
      "cell_type": "code",
      "execution_count": null,
      "id": "675347b9",
      "metadata": {
        "execution": {
          "iopub.execute_input": "2025-07-27T00:34:30.824119Z",
          "iopub.status.busy": "2025-07-27T00:34:30.823832Z",
          "iopub.status.idle": "2025-07-27T00:34:30.829691Z",
          "shell.execute_reply": "2025-07-27T00:34:30.829180Z"
        },
        "papermill": {
          "duration": 0.036265,
          "end_time": "2025-07-27T00:34:30.830768",
          "exception": false,
          "start_time": "2025-07-27T00:34:30.794503",
          "status": "completed"
        },
        "tags": [],
        "id": "675347b9"
      },
      "outputs": [],
      "source": [
        "def prepare_test_prompt(example):\n",
        "    example_prompt = {\n",
        "        \"event_text\": [example[\"event_text\"]],\n",
        "        \"output\": [\"\"]  # we don't use actual output at test time\n",
        "    }\n",
        "    prompt_data = serialize(example_prompt)\n",
        "    return prompt_data[\"text\"][0]  # return serialized string\n",
        "\n",
        "\n",
        "\n",
        "def tokenize_fn_val(example):\n",
        "\n",
        "    \"\"\"\n",
        "    Prepares tokenized input for supervised fine-tuning of a language model using prompt-response format.\n",
        "\n",
        "    This function takes a dictionary containing a prompt (`example[\"text\"]`) and a target output\n",
        "    (`example[\"output\"]`), concatenates them into a single training string, and tokenizes it using\n",
        "    the provided tokenizer. It ensures that only the target portion contributes to the training loss\n",
        "    by masking the prompt tokens with -100 in the label tensor.\n",
        "\n",
        "    Parameters:\n",
        "    ----------\n",
        "    example : dict\n",
        "        A dictionary with:\n",
        "        - 'text': The input prompt string used to condition the model.\n",
        "        - 'output': The expected target string to be predicted by the model.\n",
        "\n",
        "    Returns:\n",
        "    -------\n",
        "    dict\n",
        "        A dictionary containing:\n",
        "        - 'input_ids': Token IDs of the concatenated prompt and target.\n",
        "        - 'attention_mask': Attention mask for the input sequence.\n",
        "        - 'labels': Token IDs with prompt tokens masked (-100) to compute loss only on the target.\n",
        "    \"\"\"\n",
        "\n",
        "    prompt = prepare_test_prompt(example)\n",
        "    target = str(example.get(\"output\",\"\"))\n",
        "\n",
        "\n",
        "    # Concatenate prompt and expected output as training input\n",
        "    full_text = prompt + target\n",
        "    # print(f\"Full Text:\\n{full_text}\")\n",
        "\n",
        "\n",
        "    # Tokenize the full sequence\n",
        "    inputs = tokenizer(full_text, return_tensors=\"pt\", padding=\"max_length\", truncation=True, max_length=512)\n",
        "\n",
        "    input_ids = inputs[\"input_ids\"]\n",
        "    attention_mask = inputs[\"attention_mask\"]\n",
        "\n",
        "\n",
        "\n",
        "    # Create labels: only the target portion should contribute to loss\n",
        "    labels = input_ids.clone()\n",
        "    prompt_len = len(tokenizer(prompt)[\"input_ids\"])-1\n",
        "    labels[0,:prompt_len] = -100  # Mask out prompt tokens\n",
        "\n",
        "    # Final training batch\n",
        "    batch = {\n",
        "        \"input_ids\": input_ids.squeeze(1),\n",
        "        \"attention_mask\": attention_mask.squeeze(1),\n",
        "        \"labels\": labels.squeeze(1),\n",
        "        \"prompt_len\":prompt_len,\n",
        "\n",
        "    }\n",
        "\n",
        "    return batch"
      ]
    },
    {
      "cell_type": "code",
      "execution_count": null,
      "id": "a270dd17",
      "metadata": {
        "execution": {
          "iopub.execute_input": "2025-07-27T00:34:30.887256Z",
          "iopub.status.busy": "2025-07-27T00:34:30.886805Z",
          "iopub.status.idle": "2025-07-27T00:34:31.074292Z",
          "shell.execute_reply": "2025-07-27T00:34:31.073580Z"
        },
        "papermill": {
          "duration": 0.217749,
          "end_time": "2025-07-27T00:34:31.076107",
          "exception": false,
          "start_time": "2025-07-27T00:34:30.858358",
          "status": "completed"
        },
        "tags": [],
        "colab": {
          "referenced_widgets": [
            "70f4f92585d14201a2d2087d10ddf180"
          ]
        },
        "id": "a270dd17",
        "outputId": "25c87db4-ea90-4ac2-a33d-fcc11277bfd0"
      },
      "outputs": [
        {
          "data": {
            "application/vnd.jupyter.widget-view+json": {
              "model_id": "70f4f92585d14201a2d2087d10ddf180",
              "version_major": 2,
              "version_minor": 0
            },
            "text/plain": [
              "Map:   0%|          | 0/80 [00:00<?, ? examples/s]"
            ]
          },
          "metadata": {},
          "output_type": "display_data"
        }
      ],
      "source": [
        "tokenized_val = ds_val.map(tokenize_fn_val, remove_columns=ds_val.column_names)\n",
        "val_loader = DataLoader(tokenized_val, batch_size=4, shuffle=True, collate_fn=collate_fn)"
      ]
    },
    {
      "cell_type": "code",
      "execution_count": null,
      "id": "4d95b49c",
      "metadata": {
        "execution": {
          "iopub.execute_input": "2025-07-27T00:34:31.133886Z",
          "iopub.status.busy": "2025-07-27T00:34:31.133659Z",
          "iopub.status.idle": "2025-07-27T00:34:31.146065Z",
          "shell.execute_reply": "2025-07-27T00:34:31.145233Z"
        },
        "papermill": {
          "duration": 0.042658,
          "end_time": "2025-07-27T00:34:31.147262",
          "exception": false,
          "start_time": "2025-07-27T00:34:31.104604",
          "status": "completed"
        },
        "tags": [],
        "id": "4d95b49c",
        "outputId": "7172ded8-4673-4f2a-d901-72c0556473bd"
      },
      "outputs": [
        {
          "name": "stdout",
          "output_type": "stream",
          "text": [
            "BATCH KEYS:\n",
            "-----------\n",
            "dict_keys(['input_ids', 'attention_mask', 'labels', 'prompt_len'])\n",
            "\n",
            "\n",
            "\n",
            "-------------------------\n",
            "SAMPLE BATCH EXAMPLES:\n",
            "-------------------------\n",
            "\n",
            "\n",
            "\n",
            "------------\n",
            "EXAMPLE: 1\n",
            "------------\n",
            "See the given example to extract the entities based on given input in JSON format.\n",
            "\n",
            "Example Input: Late night study session at the café on 15th, Dec 2024 at 9:00 pm for 2 hours.\n",
            "Example Output: {'action': 'study session', 'date': '15/12/2024', 'time': '9:00 PM', 'attendees': None, 'location': 'café', 'duration': '2 hours', 'recurrence': None, 'notes': None}\n",
            "--------------------------\n",
            "Please extract the entities for the below user input in JSON format. And do not output anything else.\n",
            "\n",
            "Human Input: Working session March 27, 2024 at 3pm, with Alice, Tanya, and Kay\n",
            "AI: {'action': 'Working session', 'date': '27/03/2024', 'time': '3:00 PM', 'attendees': ['Alice', 'Tanya', 'Kay'], 'location': None, 'duration': None, 'recurrence': None, 'notes': None}\n",
            "\n",
            "\n",
            "OUTPUT:\n",
            "-------\n",
            " {'action': 'Working session', 'date': '27/03/2024', 'time': '3:00 PM', 'attendees': ['Alice', 'Tanya', 'Kay'], 'location': None, 'duration': None, 'recurrence': None, 'notes': None}\n",
            "------------------------------------------------------------\n",
            "\n",
            "\n",
            "\n",
            "------------\n",
            "EXAMPLE: 2\n",
            "------------\n",
            "See the given example to extract the entities based on given input in JSON format.\n",
            "\n",
            "Example Input: Late night study session at the café on 15th, Dec 2024 at 9:00 pm for 2 hours.\n",
            "Example Output: {'action': 'study session', 'date': '15/12/2024', 'time': '9:00 PM', 'attendees': None, 'location': 'café', 'duration': '2 hours', 'recurrence': None, 'notes': None}\n",
            "--------------------------\n",
            "Please extract the entities for the below user input in JSON format. And do not output anything else.\n",
            "\n",
            "Human Input: Schedule an awards ceremony rehearsal with Jack, Bella, and Ella on 15th, August 2026 at 1 PM in the auditorium for 2 hours.\n",
            "AI: {'action': 'Schedule an awards ceremony rehearsal', 'date': '15/08/2026', 'time': '1:00 PM', 'attendees': ['Jack', 'Bella', 'Ella'], 'location': 'auditorium', 'duration': '2 hours', 'recurrence': None, 'notes': None}\n",
            "\n",
            "\n",
            "OUTPUT:\n",
            "-------\n",
            " {'action': 'Schedule an awards ceremony rehearsal', 'date': '15/08/2026', 'time': '1:00 PM', 'attendees': ['Jack', 'Bella', 'Ella'], 'location': 'auditorium', 'duration': '2 hours', 'recurrence': None, 'notes': None}\n",
            "------------------------------------------------------------\n",
            "\n",
            "\n",
            "\n",
            "------------\n",
            "EXAMPLE: 3\n",
            "------------\n",
            "See the given example to extract the entities based on given input in JSON format.\n",
            "\n",
            "Example Input: Late night study session at the café on 15th, Dec 2024 at 9:00 pm for 2 hours.\n",
            "Example Output: {'action': 'study session', 'date': '15/12/2024', 'time': '9:00 PM', 'attendees': None, 'location': 'café', 'duration': '2 hours', 'recurrence': None, 'notes': None}\n",
            "--------------------------\n",
            "Please extract the entities for the below user input in JSON format. And do not output anything else.\n",
            "\n",
            "Human Input: Catch up with marketing on June 2, 2024 at 14:00 for 45 minutes.\n",
            "AI: {'action': 'Catch up with marketing', 'date': '02/06/2024', 'time': '14:00', 'attendees': None, 'location': None, 'duration': '45 minutes', 'recurrence': None, 'notes': None}\n",
            "\n",
            "\n",
            "OUTPUT:\n",
            "-------\n",
            " {'action': 'Catch up with marketing', 'date': '02/06/2024', 'time': '14:00', 'attendees': None, 'location': None, 'duration': '45 minutes', 'recurrence': None, 'notes': None}\n",
            "------------------------------------------------------------\n",
            "\n",
            "\n",
            "\n",
            "------------\n",
            "EXAMPLE: 4\n",
            "------------\n",
            "See the given example to extract the entities based on given input in JSON format.\n",
            "\n",
            "Example Input: Late night study session at the café on 15th, Dec 2024 at 9:00 pm for 2 hours.\n",
            "Example Output: {'action': 'study session', 'date': '15/12/2024', 'time': '9:00 PM', 'attendees': None, 'location': 'café', 'duration': '2 hours', 'recurrence': None, 'notes': None}\n",
            "--------------------------\n",
            "Please extract the entities for the below user input in JSON format. And do not output anything else.\n",
            "\n",
            "Human Input: Feedback chat March 11, 2024, 12:00 pm, 20 mins via Slack.\n",
            "AI: {'action': 'Feedback chat', 'date': '11/03/2024', 'time': '12:00 PM', 'attendees': None, 'location': 'Slack', 'duration': '20 mins', 'recurrence': None, 'notes': None}\n",
            "\n",
            "\n",
            "OUTPUT:\n",
            "-------\n",
            " {'action': 'Feedback chat', 'date': '11/03/2024', 'time': '12:00 PM', 'attendees': None, 'location': 'Slack', 'duration': '20 mins', 'recurrence': None, 'notes': None}\n",
            "------------------------------------------------------------\n",
            "\n",
            "\n",
            "\n"
          ]
        }
      ],
      "source": [
        "batch = next(iter(val_loader))\n",
        "print(\"BATCH KEYS:\")\n",
        "print(\"-\"*len(\"BATCH KEYS:\"))\n",
        "print(batch.keys())\n",
        "print(\"\\n\\n\")\n",
        "print(\"-\"*len(\"TRAINING BATCH EXAMPLE:  \"))\n",
        "print(\"SAMPLE BATCH EXAMPLES:\")\n",
        "print(\"-\"*len(\"TRAINING BATCH EXAMPLE:  \"))\n",
        "print(\"\\n\\n\")\n",
        "\n",
        "\n",
        "for i in range(batch['input_ids'].shape[0]):\n",
        "    prompt_len = batch['prompt_len'][i].item()\n",
        "    input_text = tokenizer.decode(batch['input_ids'][i][0],skip_special_tokens=True)\n",
        "    label_text = tokenizer.decode(batch['labels'][i][0][prompt_len:],skip_special_tokens=True)\n",
        "\n",
        "    print(\"-\"*len(\"EXAMPLE:    \"))\n",
        "    print(f\"EXAMPLE: {i+1}\")\n",
        "    print(\"-\"*len(\"EXAMPLE:    \"))\n",
        "    print(f\"{input_text}\")\n",
        "    print(\"\\n\")\n",
        "    print(f\"OUTPUT:\")\n",
        "    print(\"-\"*len(\"OUTPUT:\"))\n",
        "    print(f\"{label_text}\")\n",
        "    print(\"-\"*60)\n",
        "    print(\"\\n\\n\")"
      ]
    },
    {
      "cell_type": "code",
      "execution_count": null,
      "id": "042bffd0",
      "metadata": {
        "execution": {
          "iopub.execute_input": "2025-07-27T00:34:31.204522Z",
          "iopub.status.busy": "2025-07-27T00:34:31.204331Z",
          "iopub.status.idle": "2025-07-27T00:34:31.209630Z",
          "shell.execute_reply": "2025-07-27T00:34:31.208912Z"
        },
        "papermill": {
          "duration": 0.035031,
          "end_time": "2025-07-27T00:34:31.210660",
          "exception": false,
          "start_time": "2025-07-27T00:34:31.175629",
          "status": "completed"
        },
        "tags": [],
        "id": "042bffd0"
      },
      "outputs": [],
      "source": [
        "def compute_loss_on_val_set(model,data_loader,device):\n",
        "\n",
        "\n",
        "    model = model.to(device)\n",
        "\n",
        "    model.eval()\n",
        "\n",
        "    total_loss=0\n",
        "    with torch.no_grad():\n",
        "        for batch in tqdm(data_loader,desc=\"Evaluating loss on entire set...\"):\n",
        "\n",
        "            del batch['prompt_len']\n",
        "\n",
        "            # ✅ Move batch tensors to same device\n",
        "            batch = {k: v.to(device).squeeze(1) for k, v in batch.items()}\n",
        "\n",
        "            output = model(**batch)\n",
        "            batch_loss = output.loss\n",
        "\n",
        "            total_loss+=batch_loss\n",
        "\n",
        "\n",
        "    return total_loss.item() / data_loader.__len__()\n",
        "\n",
        "\n",
        ""
      ]
    },
    {
      "cell_type": "code",
      "execution_count": null,
      "id": "085508e7",
      "metadata": {
        "execution": {
          "iopub.execute_input": "2025-07-27T00:34:31.267872Z",
          "iopub.status.busy": "2025-07-27T00:34:31.267654Z",
          "iopub.status.idle": "2025-07-27T00:34:57.033597Z",
          "shell.execute_reply": "2025-07-27T00:34:57.032651Z"
        },
        "papermill": {
          "duration": 25.796159,
          "end_time": "2025-07-27T00:34:57.034820",
          "exception": false,
          "start_time": "2025-07-27T00:34:31.238661",
          "status": "completed"
        },
        "tags": [],
        "id": "085508e7",
        "outputId": "0e8f071c-661d-4f7c-a084-5f81ea61f080"
      },
      "outputs": [
        {
          "name": "stderr",
          "output_type": "stream",
          "text": [
            "Evaluating loss on entire set...: 100%|██████████| 178/178 [00:23<00:00,  7.71it/s]\n"
          ]
        },
        {
          "name": "stdout",
          "output_type": "stream",
          "text": [
            "11.129414419109901\n"
          ]
        },
        {
          "name": "stderr",
          "output_type": "stream",
          "text": [
            "Evaluating loss on entire set...: 100%|██████████| 20/20 [00:02<00:00,  7.73it/s]"
          ]
        },
        {
          "name": "stdout",
          "output_type": "stream",
          "text": [
            "11.20376968383789\n"
          ]
        },
        {
          "name": "stderr",
          "output_type": "stream",
          "text": [
            "\n"
          ]
        }
      ],
      "source": [
        "print(compute_loss_on_val_set(model,train_loader,device))\n",
        "print(compute_loss_on_val_set(model,val_loader,device))"
      ]
    },
    {
      "cell_type": "markdown",
      "id": "e0e3c004",
      "metadata": {
        "papermill": {
          "duration": 0.035023,
          "end_time": "2025-07-27T00:34:57.107667",
          "exception": false,
          "start_time": "2025-07-27T00:34:57.072644",
          "status": "completed"
        },
        "tags": [],
        "id": "e0e3c004"
      },
      "source": [
        "## Setting up PEFT config..!"
      ]
    },
    {
      "cell_type": "code",
      "execution_count": null,
      "id": "94a14be3",
      "metadata": {
        "execution": {
          "iopub.execute_input": "2025-07-27T00:34:57.179676Z",
          "iopub.status.busy": "2025-07-27T00:34:57.179446Z",
          "iopub.status.idle": "2025-07-27T00:34:57.275866Z",
          "shell.execute_reply": "2025-07-27T00:34:57.275090Z"
        },
        "papermill": {
          "duration": 0.133918,
          "end_time": "2025-07-27T00:34:57.277066",
          "exception": false,
          "start_time": "2025-07-27T00:34:57.143148",
          "status": "completed"
        },
        "tags": [],
        "id": "94a14be3",
        "outputId": "1a17ca71-5cd6-4672-a478-dc0ed93f9bd2"
      },
      "outputs": [
        {
          "name": "stdout",
          "output_type": "stream",
          "text": [
            "trainable params: 1,638,400 || all params: 363,459,520 || trainable%: 0.4508\n"
          ]
        }
      ],
      "source": [
        "peft_model = prepare_model_for_kbit_training(model)\n",
        "\n",
        "lora_config = LoraConfig(\n",
        "    task_type=\"CAUSAL_LM\",\n",
        "    inference_mode=False,\n",
        "    r=16,\n",
        "    lora_alpha=32,\n",
        "    lora_dropout=0.05,\n",
        "    target_modules=[\"q_proj\", \"v_proj\"],\n",
        ")\n",
        "\n",
        "peft_model = get_peft_model(peft_model, lora_config)\n",
        "\n",
        "peft_model.print_trainable_parameters()"
      ]
    },
    {
      "cell_type": "markdown",
      "id": "07b2a69a",
      "metadata": {
        "papermill": {
          "duration": 0.036202,
          "end_time": "2025-07-27T00:34:57.349582",
          "exception": false,
          "start_time": "2025-07-27T00:34:57.313380",
          "status": "completed"
        },
        "tags": [],
        "id": "07b2a69a"
      },
      "source": [
        "## Getting started with Training Loop..!"
      ]
    },
    {
      "cell_type": "code",
      "execution_count": null,
      "id": "5ce4c5b6",
      "metadata": {
        "execution": {
          "iopub.execute_input": "2025-07-27T00:34:57.421238Z",
          "iopub.status.busy": "2025-07-27T00:34:57.420509Z",
          "iopub.status.idle": "2025-07-27T01:13:41.899729Z",
          "shell.execute_reply": "2025-07-27T01:13:41.898842Z"
        },
        "papermill": {
          "duration": 2324.516033,
          "end_time": "2025-07-27T01:13:41.900938",
          "exception": false,
          "start_time": "2025-07-27T00:34:57.384905",
          "status": "completed"
        },
        "tags": [],
        "id": "5ce4c5b6",
        "outputId": "daaebff0-7e4f-4257-d63b-a1fbe970f044"
      },
      "outputs": [
        {
          "name": "stdout",
          "output_type": "stream",
          "text": [
            "-----------------------\n",
            "TRAINING LOOP BEGINS:\n",
            "-----------------------\n",
            "\n",
            "🔁 Epoch 1/10\n"
          ]
        },
        {
          "name": "stderr",
          "output_type": "stream",
          "text": [
            "Epoch 1:   0%|          | 0/178 [00:00<?, ?it/s]`use_cache=True` is incompatible with gradient checkpointing. Setting `use_cache=False`.\n",
            "/usr/local/lib/python3.11/dist-packages/torch/_dynamo/eval_frame.py:745: UserWarning: torch.utils.checkpoint: the use_reentrant parameter should be passed explicitly. In version 2.5 we will raise an exception if use_reentrant is not passed. use_reentrant=False is recommended, but if you need to preserve the current default behavior, you can pass use_reentrant=True. Refer to docs for more details on the differences between the two variants.\n",
            "  return fn(*args, **kwargs)\n",
            "Epoch 1:  28%|██▊       | 50/178 [00:46<01:59,  1.07it/s]"
          ]
        },
        {
          "name": "stdout",
          "output_type": "stream",
          "text": [
            "🔹 Step 50, Loss: 0.2387\n"
          ]
        },
        {
          "name": "stderr",
          "output_type": "stream",
          "text": [
            "Epoch 1:  56%|█████▌    | 100/178 [01:34<01:14,  1.05it/s]"
          ]
        },
        {
          "name": "stdout",
          "output_type": "stream",
          "text": [
            "🔹 Step 100, Loss: 0.0395\n"
          ]
        },
        {
          "name": "stderr",
          "output_type": "stream",
          "text": [
            "Epoch 1:  84%|████████▍ | 150/178 [02:22<00:27,  1.03it/s]"
          ]
        },
        {
          "name": "stdout",
          "output_type": "stream",
          "text": [
            "🔹 Step 150, Loss: 0.0323\n"
          ]
        },
        {
          "name": "stderr",
          "output_type": "stream",
          "text": [
            "Epoch 1: 100%|██████████| 178/178 [02:49<00:00,  1.05it/s]\n",
            "Evaluating loss on entire set...: 100%|██████████| 178/178 [00:48<00:00,  3.69it/s]\n",
            "Evaluating loss on entire set...: 100%|██████████| 20/20 [00:05<00:00,  3.76it/s]\n"
          ]
        },
        {
          "name": "stdout",
          "output_type": "stream",
          "text": [
            "✅ Epoch 1 completed. Avg Trainig Loss: 0.0229. Avg Val Loss: 0.0219\n",
            "\n",
            "🔁 Epoch 2/10\n"
          ]
        },
        {
          "name": "stderr",
          "output_type": "stream",
          "text": [
            "Epoch 2:  12%|█▏        | 22/178 [00:21<02:33,  1.01it/s]"
          ]
        },
        {
          "name": "stdout",
          "output_type": "stream",
          "text": [
            "🔹 Step 200, Loss: 0.0180\n"
          ]
        },
        {
          "name": "stderr",
          "output_type": "stream",
          "text": [
            "Epoch 2:  40%|████      | 72/178 [01:11<01:45,  1.01it/s]"
          ]
        },
        {
          "name": "stdout",
          "output_type": "stream",
          "text": [
            "🔹 Step 250, Loss: 0.0262\n"
          ]
        },
        {
          "name": "stderr",
          "output_type": "stream",
          "text": [
            "Epoch 2:  69%|██████▊   | 122/178 [02:00<00:55,  1.01it/s]"
          ]
        },
        {
          "name": "stdout",
          "output_type": "stream",
          "text": [
            "🔹 Step 300, Loss: 0.0088\n"
          ]
        },
        {
          "name": "stderr",
          "output_type": "stream",
          "text": [
            "Epoch 2:  97%|█████████▋| 172/178 [02:50<00:05,  1.01it/s]"
          ]
        },
        {
          "name": "stdout",
          "output_type": "stream",
          "text": [
            "🔹 Step 350, Loss: 0.0067\n"
          ]
        },
        {
          "name": "stderr",
          "output_type": "stream",
          "text": [
            "Epoch 2: 100%|██████████| 178/178 [02:56<00:00,  1.01it/s]\n",
            "Evaluating loss on entire set...: 100%|██████████| 178/178 [00:49<00:00,  3.61it/s]\n",
            "Evaluating loss on entire set...: 100%|██████████| 20/20 [00:05<00:00,  3.69it/s]\n"
          ]
        },
        {
          "name": "stdout",
          "output_type": "stream",
          "text": [
            "✅ Epoch 2 completed. Avg Trainig Loss: 0.0107. Avg Val Loss: 0.0116\n",
            "\n",
            "🔁 Epoch 3/10\n"
          ]
        },
        {
          "name": "stderr",
          "output_type": "stream",
          "text": [
            "Epoch 3:  25%|██▍       | 44/178 [00:43<02:12,  1.01it/s]"
          ]
        },
        {
          "name": "stdout",
          "output_type": "stream",
          "text": [
            "🔹 Step 400, Loss: 0.0069\n"
          ]
        },
        {
          "name": "stderr",
          "output_type": "stream",
          "text": [
            "Epoch 3:  53%|█████▎    | 94/178 [01:33<01:23,  1.01it/s]"
          ]
        },
        {
          "name": "stdout",
          "output_type": "stream",
          "text": [
            "🔹 Step 450, Loss: 0.0085\n"
          ]
        },
        {
          "name": "stderr",
          "output_type": "stream",
          "text": [
            "Epoch 3:  81%|████████  | 144/178 [02:22<00:33,  1.01it/s]"
          ]
        },
        {
          "name": "stdout",
          "output_type": "stream",
          "text": [
            "🔹 Step 500, Loss: 0.0127\n"
          ]
        },
        {
          "name": "stderr",
          "output_type": "stream",
          "text": [
            "Epoch 3: 100%|██████████| 178/178 [02:56<00:00,  1.01it/s]\n",
            "Evaluating loss on entire set...: 100%|██████████| 178/178 [00:49<00:00,  3.60it/s]\n",
            "Evaluating loss on entire set...: 100%|██████████| 20/20 [00:05<00:00,  3.68it/s]\n"
          ]
        },
        {
          "name": "stdout",
          "output_type": "stream",
          "text": [
            "✅ Epoch 3 completed. Avg Trainig Loss: 0.0066. Avg Val Loss: 0.0079\n",
            "\n",
            "🔁 Epoch 4/10\n"
          ]
        },
        {
          "name": "stderr",
          "output_type": "stream",
          "text": [
            "Epoch 4:   9%|▉         | 16/178 [00:15<02:40,  1.01it/s]"
          ]
        },
        {
          "name": "stdout",
          "output_type": "stream",
          "text": [
            "🔹 Step 550, Loss: 0.0052\n"
          ]
        },
        {
          "name": "stderr",
          "output_type": "stream",
          "text": [
            "Epoch 4:  37%|███▋      | 66/178 [01:05<01:50,  1.01it/s]"
          ]
        },
        {
          "name": "stdout",
          "output_type": "stream",
          "text": [
            "🔹 Step 600, Loss: 0.0088\n"
          ]
        },
        {
          "name": "stderr",
          "output_type": "stream",
          "text": [
            "Epoch 4:  65%|██████▌   | 116/178 [01:54<01:01,  1.01it/s]"
          ]
        },
        {
          "name": "stdout",
          "output_type": "stream",
          "text": [
            "🔹 Step 650, Loss: 0.0020\n"
          ]
        },
        {
          "name": "stderr",
          "output_type": "stream",
          "text": [
            "Epoch 4:  93%|█████████▎| 166/178 [02:44<00:11,  1.01it/s]"
          ]
        },
        {
          "name": "stdout",
          "output_type": "stream",
          "text": [
            "🔹 Step 700, Loss: 0.0032\n"
          ]
        },
        {
          "name": "stderr",
          "output_type": "stream",
          "text": [
            "Epoch 4: 100%|██████████| 178/178 [02:56<00:00,  1.01it/s]\n",
            "Evaluating loss on entire set...: 100%|██████████| 178/178 [00:49<00:00,  3.59it/s]\n",
            "Evaluating loss on entire set...: 100%|██████████| 20/20 [00:05<00:00,  3.68it/s]\n"
          ]
        },
        {
          "name": "stdout",
          "output_type": "stream",
          "text": [
            "✅ Epoch 4 completed. Avg Trainig Loss: 0.0050. Avg Val Loss: 0.0065\n",
            "\n",
            "🔁 Epoch 5/10\n"
          ]
        },
        {
          "name": "stderr",
          "output_type": "stream",
          "text": [
            "Epoch 5:  21%|██▏       | 38/178 [00:37<02:20,  1.00s/it]"
          ]
        },
        {
          "name": "stdout",
          "output_type": "stream",
          "text": [
            "🔹 Step 750, Loss: 0.0073\n"
          ]
        },
        {
          "name": "stderr",
          "output_type": "stream",
          "text": [
            "Epoch 5:  49%|████▉     | 88/178 [01:28<01:30,  1.01s/it]"
          ]
        },
        {
          "name": "stdout",
          "output_type": "stream",
          "text": [
            "🔹 Step 800, Loss: 0.0024\n"
          ]
        },
        {
          "name": "stderr",
          "output_type": "stream",
          "text": [
            "Epoch 5:  78%|███████▊  | 138/178 [02:18<00:40,  1.01s/it]"
          ]
        },
        {
          "name": "stdout",
          "output_type": "stream",
          "text": [
            "🔹 Step 850, Loss: 0.0029\n"
          ]
        },
        {
          "name": "stderr",
          "output_type": "stream",
          "text": [
            "Epoch 5: 100%|██████████| 178/178 [02:58<00:00,  1.01s/it]\n",
            "Evaluating loss on entire set...: 100%|██████████| 178/178 [00:50<00:00,  3.53it/s]\n",
            "Evaluating loss on entire set...: 100%|██████████| 20/20 [00:05<00:00,  3.58it/s]\n"
          ]
        },
        {
          "name": "stdout",
          "output_type": "stream",
          "text": [
            "✅ Epoch 5 completed. Avg Trainig Loss: 0.0039. Avg Val Loss: 0.0057\n",
            "\n",
            "🔁 Epoch 6/10\n"
          ]
        },
        {
          "name": "stderr",
          "output_type": "stream",
          "text": [
            "Epoch 6:   6%|▌         | 10/178 [00:10<02:49,  1.01s/it]"
          ]
        },
        {
          "name": "stdout",
          "output_type": "stream",
          "text": [
            "🔹 Step 900, Loss: 0.0036\n"
          ]
        },
        {
          "name": "stderr",
          "output_type": "stream",
          "text": [
            "Epoch 6:  34%|███▎      | 60/178 [01:00<01:59,  1.01s/it]"
          ]
        },
        {
          "name": "stdout",
          "output_type": "stream",
          "text": [
            "🔹 Step 950, Loss: 0.0035\n"
          ]
        },
        {
          "name": "stderr",
          "output_type": "stream",
          "text": [
            "Epoch 6:  62%|██████▏   | 110/178 [01:51<01:08,  1.01s/it]"
          ]
        },
        {
          "name": "stdout",
          "output_type": "stream",
          "text": [
            "🔹 Step 1000, Loss: 0.0019\n"
          ]
        },
        {
          "name": "stderr",
          "output_type": "stream",
          "text": [
            "Epoch 6:  90%|████████▉ | 160/178 [02:41<00:18,  1.01s/it]"
          ]
        },
        {
          "name": "stdout",
          "output_type": "stream",
          "text": [
            "🔹 Step 1050, Loss: 0.0029\n"
          ]
        },
        {
          "name": "stderr",
          "output_type": "stream",
          "text": [
            "Epoch 6: 100%|██████████| 178/178 [02:59<00:00,  1.01s/it]\n",
            "Evaluating loss on entire set...: 100%|██████████| 178/178 [00:50<00:00,  3.52it/s]\n",
            "Evaluating loss on entire set...: 100%|██████████| 20/20 [00:05<00:00,  3.61it/s]\n"
          ]
        },
        {
          "name": "stdout",
          "output_type": "stream",
          "text": [
            "✅ Epoch 6 completed. Avg Trainig Loss: 0.0040. Avg Val Loss: 0.0070\n",
            "\n",
            "🔁 Epoch 7/10\n"
          ]
        },
        {
          "name": "stderr",
          "output_type": "stream",
          "text": [
            "Epoch 7:  18%|█▊        | 32/178 [00:32<02:27,  1.01s/it]"
          ]
        },
        {
          "name": "stdout",
          "output_type": "stream",
          "text": [
            "🔹 Step 1100, Loss: 0.0035\n"
          ]
        },
        {
          "name": "stderr",
          "output_type": "stream",
          "text": [
            "Epoch 7:  46%|████▌     | 82/178 [01:22<01:36,  1.01s/it]"
          ]
        },
        {
          "name": "stdout",
          "output_type": "stream",
          "text": [
            "🔹 Step 1150, Loss: 0.0092\n"
          ]
        },
        {
          "name": "stderr",
          "output_type": "stream",
          "text": [
            "Epoch 7:  74%|███████▍  | 132/178 [02:13<00:46,  1.01s/it]"
          ]
        },
        {
          "name": "stdout",
          "output_type": "stream",
          "text": [
            "🔹 Step 1200, Loss: 0.0015\n"
          ]
        },
        {
          "name": "stderr",
          "output_type": "stream",
          "text": [
            "Epoch 7: 100%|██████████| 178/178 [02:59<00:00,  1.01s/it]\n",
            "Evaluating loss on entire set...: 100%|██████████| 178/178 [00:50<00:00,  3.53it/s]\n",
            "Evaluating loss on entire set...: 100%|██████████| 20/20 [00:05<00:00,  3.58it/s]\n"
          ]
        },
        {
          "name": "stdout",
          "output_type": "stream",
          "text": [
            "✅ Epoch 7 completed. Avg Trainig Loss: 0.0024. Avg Val Loss: 0.0051\n",
            "\n",
            "🔁 Epoch 8/10\n"
          ]
        },
        {
          "name": "stderr",
          "output_type": "stream",
          "text": [
            "Epoch 8:   2%|▏         | 4/178 [00:04<02:55,  1.01s/it]"
          ]
        },
        {
          "name": "stdout",
          "output_type": "stream",
          "text": [
            "🔹 Step 1250, Loss: 0.0006\n"
          ]
        },
        {
          "name": "stderr",
          "output_type": "stream",
          "text": [
            "Epoch 8:  30%|███       | 54/178 [00:54<02:05,  1.01s/it]"
          ]
        },
        {
          "name": "stdout",
          "output_type": "stream",
          "text": [
            "🔹 Step 1300, Loss: 0.0009\n"
          ]
        },
        {
          "name": "stderr",
          "output_type": "stream",
          "text": [
            "Epoch 8:  58%|█████▊    | 104/178 [01:45<01:14,  1.01s/it]"
          ]
        },
        {
          "name": "stdout",
          "output_type": "stream",
          "text": [
            "🔹 Step 1350, Loss: 0.0021\n"
          ]
        },
        {
          "name": "stderr",
          "output_type": "stream",
          "text": [
            "Epoch 8:  87%|████████▋ | 154/178 [02:35<00:24,  1.01s/it]"
          ]
        },
        {
          "name": "stdout",
          "output_type": "stream",
          "text": [
            "🔹 Step 1400, Loss: 0.0013\n"
          ]
        },
        {
          "name": "stderr",
          "output_type": "stream",
          "text": [
            "Epoch 8: 100%|██████████| 178/178 [02:59<00:00,  1.01s/it]\n",
            "Evaluating loss on entire set...: 100%|██████████| 178/178 [00:50<00:00,  3.56it/s]\n",
            "Evaluating loss on entire set...: 100%|██████████| 20/20 [00:05<00:00,  3.63it/s]\n"
          ]
        },
        {
          "name": "stdout",
          "output_type": "stream",
          "text": [
            "✅ Epoch 8 completed. Avg Trainig Loss: 0.0032. Avg Val Loss: 0.0067\n",
            "\n",
            "🔁 Epoch 9/10\n"
          ]
        },
        {
          "name": "stderr",
          "output_type": "stream",
          "text": [
            "Epoch 9:  15%|█▍        | 26/178 [00:25<02:31,  1.00it/s]"
          ]
        },
        {
          "name": "stdout",
          "output_type": "stream",
          "text": [
            "🔹 Step 1450, Loss: 0.0018\n"
          ]
        },
        {
          "name": "stderr",
          "output_type": "stream",
          "text": [
            "Epoch 9:  43%|████▎     | 76/178 [01:15<01:41,  1.01it/s]"
          ]
        },
        {
          "name": "stdout",
          "output_type": "stream",
          "text": [
            "🔹 Step 1500, Loss: 0.0026\n"
          ]
        },
        {
          "name": "stderr",
          "output_type": "stream",
          "text": [
            "Epoch 9:  71%|███████   | 126/178 [02:05<00:51,  1.01it/s]"
          ]
        },
        {
          "name": "stdout",
          "output_type": "stream",
          "text": [
            "🔹 Step 1550, Loss: 0.0014\n"
          ]
        },
        {
          "name": "stderr",
          "output_type": "stream",
          "text": [
            "Epoch 9:  99%|█████████▉| 176/178 [02:54<00:01,  1.01it/s]"
          ]
        },
        {
          "name": "stdout",
          "output_type": "stream",
          "text": [
            "🔹 Step 1600, Loss: 0.0007\n"
          ]
        },
        {
          "name": "stderr",
          "output_type": "stream",
          "text": [
            "Epoch 9: 100%|██████████| 178/178 [02:56<00:00,  1.01it/s]\n",
            "Evaluating loss on entire set...: 100%|██████████| 178/178 [00:49<00:00,  3.59it/s]\n",
            "Evaluating loss on entire set...: 100%|██████████| 20/20 [00:05<00:00,  3.68it/s]\n"
          ]
        },
        {
          "name": "stdout",
          "output_type": "stream",
          "text": [
            "✅ Epoch 9 completed. Avg Trainig Loss: 0.0016. Avg Val Loss: 0.0049\n",
            "\n",
            "🔁 Epoch 10/10\n"
          ]
        },
        {
          "name": "stderr",
          "output_type": "stream",
          "text": [
            "Epoch 10:  27%|██▋       | 48/178 [00:47<02:08,  1.01it/s]"
          ]
        },
        {
          "name": "stdout",
          "output_type": "stream",
          "text": [
            "🔹 Step 1650, Loss: 0.0093\n"
          ]
        },
        {
          "name": "stderr",
          "output_type": "stream",
          "text": [
            "Epoch 10:  55%|█████▌    | 98/178 [01:36<01:19,  1.01it/s]"
          ]
        },
        {
          "name": "stdout",
          "output_type": "stream",
          "text": [
            "🔹 Step 1700, Loss: 0.0038\n"
          ]
        },
        {
          "name": "stderr",
          "output_type": "stream",
          "text": [
            "Epoch 10:  83%|████████▎ | 148/178 [02:26<00:29,  1.01it/s]"
          ]
        },
        {
          "name": "stdout",
          "output_type": "stream",
          "text": [
            "🔹 Step 1750, Loss: 0.0022\n"
          ]
        },
        {
          "name": "stderr",
          "output_type": "stream",
          "text": [
            "Epoch 10: 100%|██████████| 178/178 [02:56<00:00,  1.01it/s]\n",
            "Evaluating loss on entire set...: 100%|██████████| 178/178 [00:49<00:00,  3.59it/s]\n",
            "Evaluating loss on entire set...: 100%|██████████| 20/20 [00:05<00:00,  3.67it/s]"
          ]
        },
        {
          "name": "stdout",
          "output_type": "stream",
          "text": [
            "✅ Epoch 10 completed. Avg Trainig Loss: 0.0013. Avg Val Loss: 0.0049\n"
          ]
        },
        {
          "name": "stderr",
          "output_type": "stream",
          "text": [
            "\n"
          ]
        }
      ],
      "source": [
        "accelerator = Accelerator(cpu=False, split_batches=False)\n",
        "peft_model = accelerator.prepare(peft_model)\n",
        "batch = {k: v.to(device) for k, v in batch.items()}\n",
        "\n",
        "\n",
        "device = torch.device(\"cuda\" if torch.cuda.is_available() else \"cpu\")\n",
        "peft_model = peft_model.to(device)\n",
        "\n",
        "optimizer = AdamW(peft_model.parameters(), lr=2e-4)\n",
        "\n",
        "epochs = 10\n",
        "step_count = 0\n",
        "\n",
        "loss_metric = {}\n",
        "loss_metric['train_loss']=[]\n",
        "loss_metric['val_loss']=[]\n",
        "\n",
        "print(\"-\"*len(\"TRAINING LOOP BEGINS:  \"))\n",
        "print(\"TRAINING LOOP BEGINS:\")\n",
        "print(\"-\"*len(\"TRAINING LOOP BEGINS:  \"))\n",
        "\n",
        "for epoch in range(epochs):\n",
        "    peft_model.train()\n",
        "    epoch_loss = 0.0\n",
        "    print(f\"\\n🔁 Epoch {epoch+1}/{epochs}\")\n",
        "\n",
        "    for batch in tqdm(train_loader, desc=f\"Epoch {epoch+1}\"):\n",
        "        del batch['prompt_len']\n",
        "        batch = {k: v.to(device).squeeze(1) for k, v in batch.items()}\n",
        "\n",
        "\n",
        "        outputs = peft_model(**batch)\n",
        "\n",
        "        loss = outputs.loss\n",
        "        loss.backward()\n",
        "        optimizer.step()\n",
        "        optimizer.zero_grad()\n",
        "\n",
        "        epoch_loss += loss.item()\n",
        "        step_count += 1\n",
        "\n",
        "        if step_count % 50 == 0:\n",
        "            print(f\"🔹 Step {step_count}, Loss: {loss.item():.4f}\")\n",
        "\n",
        "    avg_loss = compute_loss_on_val_set(peft_model,train_loader,device)\n",
        "    avg_val_loss = compute_loss_on_val_set(peft_model,val_loader,device)\n",
        "\n",
        "    print(f\"✅ Epoch {epoch+1} completed. Avg Trainig Loss: {avg_loss:.4f}. Avg Val Loss: {avg_val_loss:.4f}\")\n",
        "\n",
        "    loss_metric['train_loss'].append(avg_loss)\n",
        "    loss_metric['val_loss'].append(avg_val_loss)"
      ]
    },
    {
      "cell_type": "code",
      "execution_count": null,
      "id": "a26b79ba",
      "metadata": {
        "execution": {
          "iopub.execute_input": "2025-07-27T01:13:42.281414Z",
          "iopub.status.busy": "2025-07-27T01:13:42.280697Z",
          "iopub.status.idle": "2025-07-27T01:13:42.649198Z",
          "shell.execute_reply": "2025-07-27T01:13:42.648458Z"
        },
        "papermill": {
          "duration": 0.556387,
          "end_time": "2025-07-27T01:13:42.650443",
          "exception": false,
          "start_time": "2025-07-27T01:13:42.094056",
          "status": "completed"
        },
        "tags": [],
        "id": "a26b79ba",
        "outputId": "73e3f1bf-8675-4dec-afa5-bc02187bd59a"
      },
      "outputs": [
        {
          "data": {
            "image/png": "[encoded data removed]",
            "text/plain": [
              "<Figure size 640x480 with 1 Axes>"
            ]
          },
          "metadata": {},
          "output_type": "display_data"
        }
      ],
      "source": [
        "import matplotlib.pyplot as plt\n",
        "x = [i for i in range(len(loss_metric['train_loss']))]\n",
        "plt.plot(x,loss_metric['train_loss'])\n",
        "plt.plot(x,loss_metric['val_loss'])\n",
        "plt.legend(['Train','Val'])\n",
        "plt.xlabel('No. of Epoch')\n",
        "plt.ylabel('Loss')\n",
        "plt.grid(True)\n",
        "plt.show()"
      ]
    },
    {
      "cell_type": "markdown",
      "id": "37b00a15",
      "metadata": {
        "papermill": {
          "duration": 0.187464,
          "end_time": "2025-07-27T01:13:43.027298",
          "exception": false,
          "start_time": "2025-07-27T01:13:42.839834",
          "status": "completed"
        },
        "tags": [],
        "id": "37b00a15"
      },
      "source": [
        "## Checking performance for the NER task..!"
      ]
    },
    {
      "cell_type": "code",
      "execution_count": null,
      "id": "fdc89151",
      "metadata": {
        "execution": {
          "iopub.execute_input": "2025-07-27T01:13:43.453813Z",
          "iopub.status.busy": "2025-07-27T01:13:43.453311Z",
          "iopub.status.idle": "2025-07-27T01:13:43.459382Z",
          "shell.execute_reply": "2025-07-27T01:13:43.458693Z"
        },
        "papermill": {
          "duration": 0.246436,
          "end_time": "2025-07-27T01:13:43.460514",
          "exception": false,
          "start_time": "2025-07-27T01:13:43.214078",
          "status": "completed"
        },
        "tags": [],
        "id": "fdc89151"
      },
      "outputs": [],
      "source": [
        "def compare_dicts(result_dict, output_dict):\n",
        "    comparison = {}\n",
        "    for key in output_dict.keys():\n",
        "        expected = output_dict[key]\n",
        "        predicted = result_dict.get(key, None)\n",
        "\n",
        "        # Normalize string values\n",
        "        if isinstance(expected, str) and isinstance(predicted, str):\n",
        "            expected = expected.strip().lower()\n",
        "            predicted = predicted.strip().lower()\n",
        "\n",
        "        # For lists: compare ignoring order\n",
        "        if isinstance(expected, list) and isinstance(predicted, list):\n",
        "            correct = sorted(expected) == sorted(predicted)\n",
        "        else:\n",
        "            correct = expected == predicted\n",
        "\n",
        "        comparison[key] = {\n",
        "            \"expected\": output_dict[key],\n",
        "            \"predicted\": result_dict.get(key, None),\n",
        "            \"match\": correct\n",
        "        }\n",
        "\n",
        "    return comparison\n",
        "\n",
        "def dict_accuracy(result_dict, output_dict):\n",
        "    comp = compare_dicts(result_dict, output_dict)\n",
        "    matches = sum(1 for k in comp if comp[k]['match'])\n",
        "    acc = {key: int(comp[key][\"match\"]) for key in comp}\n",
        "    return acc\n",
        "\n"
      ]
    },
    {
      "cell_type": "code",
      "execution_count": null,
      "id": "bd56bd60",
      "metadata": {
        "execution": {
          "iopub.execute_input": "2025-07-27T01:13:43.845088Z",
          "iopub.status.busy": "2025-07-27T01:13:43.844705Z",
          "iopub.status.idle": "2025-07-27T01:13:43.850150Z",
          "shell.execute_reply": "2025-07-27T01:13:43.849445Z"
        },
        "papermill": {
          "duration": 0.201084,
          "end_time": "2025-07-27T01:13:43.851362",
          "exception": false,
          "start_time": "2025-07-27T01:13:43.650278",
          "status": "completed"
        },
        "tags": [],
        "id": "bd56bd60"
      },
      "outputs": [],
      "source": [
        "def run_generation(model, tokenizer, example):\n",
        "    model.eval()\n",
        "    prompt = prepare_test_prompt(example)\n",
        "    # print(prompt)\n",
        "\n",
        "    inputs = tokenizer(prompt, return_tensors=\"pt\").to(model.device)\n",
        "    input_length = inputs[\"input_ids\"].shape[-1]\n",
        "\n",
        "    with torch.no_grad():\n",
        "        output_ids = model.generate(\n",
        "            **inputs,\n",
        "            max_new_tokens=512,\n",
        "            do_sample=False,\n",
        "            pad_token_id=tokenizer.eos_token_id\n",
        "        )\n",
        "\n",
        "    # Get generated text *excluding* the input\n",
        "    generated_ids = output_ids[:, input_length:]\n",
        "    decoded = tokenizer.decode(generated_ids[0], skip_special_tokens=True)\n",
        "\n",
        "    try:\n",
        "        result_dict = ast.literal_eval(decoded.strip())\n",
        "    except Exception as e:\n",
        "        result_dict = {\"error\": str(e), \"raw_output\": decoded}\n",
        "\n",
        "    return result_dict\n"
      ]
    },
    {
      "cell_type": "code",
      "execution_count": null,
      "id": "b99abb1d",
      "metadata": {
        "execution": {
          "iopub.execute_input": "2025-07-27T01:13:44.240059Z",
          "iopub.status.busy": "2025-07-27T01:13:44.239480Z",
          "iopub.status.idle": "2025-07-27T01:13:50.483721Z",
          "shell.execute_reply": "2025-07-27T01:13:50.482864Z"
        },
        "papermill": {
          "duration": 6.435579,
          "end_time": "2025-07-27T01:13:50.485244",
          "exception": false,
          "start_time": "2025-07-27T01:13:44.049665",
          "status": "completed"
        },
        "tags": [],
        "id": "b99abb1d",
        "outputId": "a974944e-4fb4-4051-edeb-744bf564ec99"
      },
      "outputs": [
        {
          "name": "stdout",
          "output_type": "stream",
          "text": [
            "Predicted: {'action': 'Cycling', 'date': '20/03/2024', 'time': '6:00 AM', 'attendees': ['Luke'], 'location': 'Riverside Park', 'duration': '45 mins', 'recurrence': None, 'notes': None}\n",
            "Actual: {'action': 'Cycling', 'date': '20/03/2024', 'time': '6:00 AM', 'attendees': ['Luke'], 'location': 'Riverside Park', 'duration': '45 mins', 'recurrence': None, 'notes': None}\n"
          ]
        }
      ],
      "source": [
        "example = ds_train[1]\n",
        "predicted_dict = run_generation(peft_model, tokenizer, example)\n",
        "\n",
        "print(\"Predicted:\", predicted_dict)\n",
        "print(\"Actual:\", example[\"output\"])\n"
      ]
    },
    {
      "cell_type": "markdown",
      "id": "0d56c2c0",
      "metadata": {
        "papermill": {
          "duration": 0.243599,
          "end_time": "2025-07-27T01:13:50.918255",
          "exception": false,
          "start_time": "2025-07-27T01:13:50.674656",
          "status": "completed"
        },
        "tags": [],
        "id": "0d56c2c0"
      },
      "source": [
        "### Saving the model and tokenizer..!"
      ]
    },
    {
      "cell_type": "code",
      "execution_count": null,
      "id": "e50cf689",
      "metadata": {
        "execution": {
          "iopub.execute_input": "2025-07-27T01:13:51.294636Z",
          "iopub.status.busy": "2025-07-27T01:13:51.294356Z",
          "iopub.status.idle": "2025-07-27T01:13:52.455622Z",
          "shell.execute_reply": "2025-07-27T01:13:52.454860Z"
        },
        "papermill": {
          "duration": 1.351683,
          "end_time": "2025-07-27T01:13:52.457122",
          "exception": false,
          "start_time": "2025-07-27T01:13:51.105439",
          "status": "completed"
        },
        "tags": [],
        "id": "e50cf689",
        "outputId": "d02811a8-e1ed-4731-e62e-68ae6a3d4e42"
      },
      "outputs": [
        {
          "name": "stdout",
          "output_type": "stream",
          "text": [
            "tar: Removing leading `/' from member names\r\n",
            "/kaggle/working/lora-ner-model/\r\n",
            "/kaggle/working/lora-ner-model/adapter_config.json\r\n",
            "/kaggle/working/lora-ner-model/special_tokens_map.json\r\n",
            "/kaggle/working/lora-ner-model/adapter_model.safetensors\r\n"
          ]
        },
        {
          "name": "stderr",
          "output_type": "stream",
          "text": [
            "huggingface/tokenizers: The current process just got forked, after parallelism has already been used. Disabling parallelism to avoid deadlocks...\n",
            "To disable this warning, you can either:\n",
            "\t- Avoid using `tokenizers` before the fork if possible\n",
            "\t- Explicitly set the environment variable TOKENIZERS_PARALLELISM=(true | false)\n"
          ]
        },
        {
          "name": "stdout",
          "output_type": "stream",
          "text": [
            "/kaggle/working/lora-ner-model/tokenizer_config.json\r\n",
            "/kaggle/working/lora-ner-model/merges.txt\r\n",
            "/kaggle/working/lora-ner-model/vocab.json\r\n",
            "/kaggle/working/lora-ner-model/README.md\r\n",
            "/kaggle/working/lora-ner-model/tokenizer.json\r\n"
          ]
        }
      ],
      "source": [
        "peft_model.save_pretrained(\"lora-ner-model\")\n",
        "tokenizer.save_pretrained(\"lora-ner-model\")\n",
        "\n",
        "!tar -zcvf lora-ner-model.tar.gz /kaggle/working/lora-ner-model"
      ]
    },
    {
      "cell_type": "markdown",
      "id": "31e235f3",
      "metadata": {
        "papermill": {
          "duration": 0.18796,
          "end_time": "2025-07-27T01:13:52.832759",
          "exception": false,
          "start_time": "2025-07-27T01:13:52.644799",
          "status": "completed"
        },
        "tags": [],
        "id": "31e235f3"
      },
      "source": [
        "### Calculating accuracy for NER task..!"
      ]
    },
    {
      "cell_type": "code",
      "execution_count": null,
      "id": "f6cc5cbc",
      "metadata": {
        "execution": {
          "iopub.execute_input": "2025-07-27T01:13:53.215219Z",
          "iopub.status.busy": "2025-07-27T01:13:53.214877Z",
          "iopub.status.idle": "2025-07-27T02:26:49.986244Z",
          "shell.execute_reply": "2025-07-27T02:26:49.984917Z"
        },
        "papermill": {
          "duration": 4376.966167,
          "end_time": "2025-07-27T02:26:49.987401",
          "exception": false,
          "start_time": "2025-07-27T01:13:53.021234",
          "status": "completed"
        },
        "tags": [],
        "id": "f6cc5cbc",
        "outputId": "3dc4fff3-6635-4026-97d2-5e894d6fe5cf"
      },
      "outputs": [
        {
          "name": "stderr",
          "output_type": "stream",
          "text": [
            "100%|██████████| 712/712 [1:12:56<00:00,  6.15s/it]\n"
          ]
        }
      ],
      "source": [
        "import pandas as pd\n",
        "\n",
        "comp = ast.literal_eval(ds_train[0]['output']).keys()\n",
        "\n",
        "result_df = {}\n",
        "for i in tqdm(range(ds_train.__len__())):\n",
        "    example = ds_train[i]\n",
        "    predicted_dict = run_generation(peft_model, tokenizer, example)\n",
        "    example['output'] = ast.literal_eval(example['output'])\n",
        "    matches = dict_accuracy(predicted_dict,example['output'])\n",
        "\n",
        "    for com in comp:\n",
        "        if com in result_df.keys():\n",
        "            result_df[com].append(matches[com])\n",
        "        else:\n",
        "            result_df[com]=[]\n",
        "            result_df[com].append(matches[com])\n"
      ]
    },
    {
      "cell_type": "code",
      "execution_count": null,
      "id": "3adc64e5",
      "metadata": {
        "execution": {
          "iopub.execute_input": "2025-07-27T02:26:50.423300Z",
          "iopub.status.busy": "2025-07-27T02:26:50.422998Z",
          "iopub.status.idle": "2025-07-27T02:26:50.503268Z",
          "shell.execute_reply": "2025-07-27T02:26:50.502508Z"
        },
        "papermill": {
          "duration": 0.298682,
          "end_time": "2025-07-27T02:26:50.504454",
          "exception": false,
          "start_time": "2025-07-27T02:26:50.205772",
          "status": "completed"
        },
        "tags": [],
        "id": "3adc64e5",
        "outputId": "97c49ca9-13c2-4b68-fad5-b46c34185a77"
      },
      "outputs": [
        {
          "name": "stdout",
          "output_type": "stream",
          "text": [
            "Average accuracy for each `NER` on training set..!\n",
            "\n",
            "\n",
            "action        0.978933\n",
            "date          0.987360\n",
            "time          0.994382\n",
            "attendees     0.994382\n",
            "location      0.991573\n",
            "duration      0.985955\n",
            "recurrence    0.997191\n",
            "notes         0.983146\n",
            "Name: mean, dtype: float64\n"
          ]
        }
      ],
      "source": [
        "result_df = pd.DataFrame(result_df)\n",
        "print(\"Average accuracy for each `NER` on training set..!\")\n",
        "print(\"\\n\")\n",
        "print(result_df.describe().loc['mean'])\n",
        "result_df.to_csv('Train_Error.csv')"
      ]
    },
    {
      "cell_type": "code",
      "execution_count": null,
      "id": "294f1b97",
      "metadata": {
        "execution": {
          "iopub.execute_input": "2025-07-27T02:26:51.000285Z",
          "iopub.status.busy": "2025-07-27T02:26:50.999592Z",
          "iopub.status.idle": "2025-07-27T02:34:55.404687Z",
          "shell.execute_reply": "2025-07-27T02:34:55.403879Z"
        },
        "papermill": {
          "duration": 484.624359,
          "end_time": "2025-07-27T02:34:55.405770",
          "exception": false,
          "start_time": "2025-07-27T02:26:50.781411",
          "status": "completed"
        },
        "tags": [],
        "id": "294f1b97",
        "outputId": "68401f88-053f-469e-8763-d7be3e49267d"
      },
      "outputs": [
        {
          "name": "stderr",
          "output_type": "stream",
          "text": [
            "100%|██████████| 80/80 [08:04<00:00,  6.05s/it]\n"
          ]
        }
      ],
      "source": [
        "comp = ast.literal_eval(ds_train[0]['output']).keys()\n",
        "\n",
        "result_df = {}\n",
        "for i in tqdm(range(ds_val.__len__())):\n",
        "    example = ds_val[i]\n",
        "    predicted_dict = run_generation(peft_model, tokenizer, example)\n",
        "    # example['output'] = ast.literal_eval(example['output'])\n",
        "    matches = dict_accuracy(predicted_dict,example['output'])\n",
        "\n",
        "    for com in comp:\n",
        "        if com in result_df.keys():\n",
        "            result_df[com].append(matches[com])\n",
        "        else:\n",
        "            result_df[com]=[]\n",
        "            result_df[com].append(matches[com])"
      ]
    },
    {
      "cell_type": "code",
      "execution_count": null,
      "id": "99af7936",
      "metadata": {
        "execution": {
          "iopub.execute_input": "2025-07-27T02:34:55.853322Z",
          "iopub.status.busy": "2025-07-27T02:34:55.852865Z",
          "iopub.status.idle": "2025-07-27T02:34:55.871217Z",
          "shell.execute_reply": "2025-07-27T02:34:55.870450Z"
        },
        "papermill": {
          "duration": 0.24314,
          "end_time": "2025-07-27T02:34:55.872536",
          "exception": false,
          "start_time": "2025-07-27T02:34:55.629396",
          "status": "completed"
        },
        "tags": [],
        "id": "99af7936",
        "outputId": "84d524e9-4b57-4cd8-b3fd-a70e318394e9"
      },
      "outputs": [
        {
          "name": "stdout",
          "output_type": "stream",
          "text": [
            "Average accuracy for each `NER` on validation set..!\n",
            "\n",
            "\n",
            "action        0.8875\n",
            "date          0.9625\n",
            "time          0.9875\n",
            "attendees     0.9875\n",
            "location      0.9500\n",
            "duration      0.9750\n",
            "recurrence    1.0000\n",
            "notes         0.9375\n",
            "Name: mean, dtype: float64\n"
          ]
        }
      ],
      "source": [
        "result_df = pd.DataFrame(result_df)\n",
        "print(\"Average accuracy for each `NER` on validation set..!\")\n",
        "print(\"\\n\")\n",
        "print(result_df.describe().loc['mean'])\n",
        "result_df.to_csv('Val_Error.csv')"
      ]
    },
    {
      "cell_type": "markdown",
      "id": "8e04124b",
      "metadata": {
        "papermill": {
          "duration": 0.223746,
          "end_time": "2025-07-27T02:34:56.328118",
          "exception": false,
          "start_time": "2025-07-27T02:34:56.104372",
          "status": "completed"
        },
        "tags": [],
        "id": "8e04124b"
      },
      "source": [
        "-------------"
      ]
    },
    {
      "cell_type": "code",
      "execution_count": null,
      "id": "c09a08a2",
      "metadata": {
        "papermill": {
          "duration": 0.218845,
          "end_time": "2025-07-27T02:34:56.828801",
          "exception": false,
          "start_time": "2025-07-27T02:34:56.609956",
          "status": "completed"
        },
        "tags": [],
        "id": "c09a08a2"
      },
      "outputs": [],
      "source": []
    }
  ],
  "metadata": {
    "kaggle": {
      "accelerator": "nvidiaTeslaT4",
      "dataSources": [
        {
          "datasetId": 7941971,
          "sourceId": 12575520,
          "sourceType": "datasetVersion"
        }
      ],
      "dockerImageVersionId": 31090,
      "isGpuEnabled": true,
      "isInternetEnabled": true,
      "language": "python",
      "sourceType": "notebook"
    },
    "kernelspec": {
      "display_name": "Python 3",
      "language": "python",
      "name": "python3"
    },
    "language_info": {
      "codemirror_mode": {
        "name": "ipython",
        "version": 3
      },
      "file_extension": ".py",
      "mimetype": "text/x-python",
      "name": "python",
      "nbconvert_exporter": "python",
      "pygments_lexer": "ipython3",
      "version": "3.11.13"
    },
    "papermill": {
      "default_parameters": {},
      "duration": 7392.703393,
      "end_time": "2025-07-27T02:35:00.763166",
      "environment_variables": {},
      "exception": null,
      "input_path": "__notebook__.ipynb",
      "output_path": "__notebook__.ipynb",
      "parameters": {},
      "start_time": "2025-07-27T00:31:48.059773",
      "version": "2.6.0"
    },
    "widgets": {
      "application/vnd.jupyter.widget-state+json": {}
    },
    "colab": {
      "provenance": []
    }
  },
  "nbformat": 4,
  "nbformat_minor": 5
}